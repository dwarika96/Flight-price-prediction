{
 "cells": [
  {
   "cell_type": "code",
   "execution_count": 274,
   "id": "38a21f7b",
   "metadata": {},
   "outputs": [],
   "source": [
    "import pandas as pd\n",
    "import matplotlib.pyplot as plt\n",
    "import seaborn as sns\n",
    "import numpy as np\n",
    "from sklearn.preprocessing import LabelEncoder\n",
    "le= LabelEncoder()\n",
    "from sklearn.model_selection import train_test_split,RandomizedSearchCV\n",
    "from sklearn.linear_model import LinearRegression\n",
    "from sklearn.metrics import r2_score\n",
    "from sklearn.ensemble import RandomForestRegressor,ExtraTreesRegressor\n",
    "from sklearn import metrics"
   ]
  },
  {
   "cell_type": "code",
   "execution_count": 85,
   "id": "75d29fc4",
   "metadata": {},
   "outputs": [],
   "source": [
    "df = pd.read_excel('Data_Train.xlsx')"
   ]
  },
  {
   "cell_type": "code",
   "execution_count": 86,
   "id": "989ac9f1",
   "metadata": {},
   "outputs": [
    {
     "data": {
      "text/plain": [
       "(10683, 11)"
      ]
     },
     "execution_count": 86,
     "metadata": {},
     "output_type": "execute_result"
    }
   ],
   "source": [
    "df.shape"
   ]
  },
  {
   "cell_type": "code",
   "execution_count": 87,
   "id": "fce3a8b9",
   "metadata": {},
   "outputs": [
    {
     "data": {
      "text/plain": [
       "Airline            0\n",
       "Date_of_Journey    0\n",
       "Source             0\n",
       "Destination        0\n",
       "Route              1\n",
       "Dep_Time           0\n",
       "Arrival_Time       0\n",
       "Duration           0\n",
       "Total_Stops        1\n",
       "Additional_Info    0\n",
       "Price              0\n",
       "dtype: int64"
      ]
     },
     "execution_count": 87,
     "metadata": {},
     "output_type": "execute_result"
    }
   ],
   "source": [
    "df.isna().sum()"
   ]
  },
  {
   "cell_type": "code",
   "execution_count": 88,
   "id": "eca5184f",
   "metadata": {},
   "outputs": [],
   "source": [
    "df.dropna(how='any',inplace=True)"
   ]
  },
  {
   "cell_type": "code",
   "execution_count": 89,
   "id": "48356088",
   "metadata": {},
   "outputs": [
    {
     "data": {
      "text/plain": [
       "Airline            0\n",
       "Date_of_Journey    0\n",
       "Source             0\n",
       "Destination        0\n",
       "Route              0\n",
       "Dep_Time           0\n",
       "Arrival_Time       0\n",
       "Duration           0\n",
       "Total_Stops        0\n",
       "Additional_Info    0\n",
       "Price              0\n",
       "dtype: int64"
      ]
     },
     "execution_count": 89,
     "metadata": {},
     "output_type": "execute_result"
    }
   ],
   "source": [
    "df.isna().sum()"
   ]
  },
  {
   "cell_type": "code",
   "execution_count": 90,
   "id": "a07a79fb",
   "metadata": {},
   "outputs": [
    {
     "data": {
      "text/html": [
       "<div>\n",
       "<style scoped>\n",
       "    .dataframe tbody tr th:only-of-type {\n",
       "        vertical-align: middle;\n",
       "    }\n",
       "\n",
       "    .dataframe tbody tr th {\n",
       "        vertical-align: top;\n",
       "    }\n",
       "\n",
       "    .dataframe thead th {\n",
       "        text-align: right;\n",
       "    }\n",
       "</style>\n",
       "<table border=\"1\" class=\"dataframe\">\n",
       "  <thead>\n",
       "    <tr style=\"text-align: right;\">\n",
       "      <th></th>\n",
       "      <th>Airline</th>\n",
       "      <th>Date_of_Journey</th>\n",
       "      <th>Source</th>\n",
       "      <th>Destination</th>\n",
       "      <th>Route</th>\n",
       "      <th>Dep_Time</th>\n",
       "      <th>Arrival_Time</th>\n",
       "      <th>Duration</th>\n",
       "      <th>Total_Stops</th>\n",
       "      <th>Additional_Info</th>\n",
       "      <th>Price</th>\n",
       "    </tr>\n",
       "  </thead>\n",
       "  <tbody>\n",
       "    <tr>\n",
       "      <th>0</th>\n",
       "      <td>IndiGo</td>\n",
       "      <td>24/03/2019</td>\n",
       "      <td>Banglore</td>\n",
       "      <td>New Delhi</td>\n",
       "      <td>BLR → DEL</td>\n",
       "      <td>22:20</td>\n",
       "      <td>01:10 22 Mar</td>\n",
       "      <td>2h 50m</td>\n",
       "      <td>non-stop</td>\n",
       "      <td>No info</td>\n",
       "      <td>3897</td>\n",
       "    </tr>\n",
       "    <tr>\n",
       "      <th>1</th>\n",
       "      <td>Air India</td>\n",
       "      <td>1/05/2019</td>\n",
       "      <td>Kolkata</td>\n",
       "      <td>Banglore</td>\n",
       "      <td>CCU → IXR → BBI → BLR</td>\n",
       "      <td>05:50</td>\n",
       "      <td>13:15</td>\n",
       "      <td>7h 25m</td>\n",
       "      <td>2 stops</td>\n",
       "      <td>No info</td>\n",
       "      <td>7662</td>\n",
       "    </tr>\n",
       "    <tr>\n",
       "      <th>2</th>\n",
       "      <td>Jet Airways</td>\n",
       "      <td>9/06/2019</td>\n",
       "      <td>Delhi</td>\n",
       "      <td>Cochin</td>\n",
       "      <td>DEL → LKO → BOM → COK</td>\n",
       "      <td>09:25</td>\n",
       "      <td>04:25 10 Jun</td>\n",
       "      <td>19h</td>\n",
       "      <td>2 stops</td>\n",
       "      <td>No info</td>\n",
       "      <td>13882</td>\n",
       "    </tr>\n",
       "    <tr>\n",
       "      <th>3</th>\n",
       "      <td>IndiGo</td>\n",
       "      <td>12/05/2019</td>\n",
       "      <td>Kolkata</td>\n",
       "      <td>Banglore</td>\n",
       "      <td>CCU → NAG → BLR</td>\n",
       "      <td>18:05</td>\n",
       "      <td>23:30</td>\n",
       "      <td>5h 25m</td>\n",
       "      <td>1 stop</td>\n",
       "      <td>No info</td>\n",
       "      <td>6218</td>\n",
       "    </tr>\n",
       "    <tr>\n",
       "      <th>4</th>\n",
       "      <td>IndiGo</td>\n",
       "      <td>01/03/2019</td>\n",
       "      <td>Banglore</td>\n",
       "      <td>New Delhi</td>\n",
       "      <td>BLR → NAG → DEL</td>\n",
       "      <td>16:50</td>\n",
       "      <td>21:35</td>\n",
       "      <td>4h 45m</td>\n",
       "      <td>1 stop</td>\n",
       "      <td>No info</td>\n",
       "      <td>13302</td>\n",
       "    </tr>\n",
       "  </tbody>\n",
       "</table>\n",
       "</div>"
      ],
      "text/plain": [
       "       Airline Date_of_Journey    Source Destination                  Route  \\\n",
       "0       IndiGo      24/03/2019  Banglore   New Delhi              BLR → DEL   \n",
       "1    Air India       1/05/2019   Kolkata    Banglore  CCU → IXR → BBI → BLR   \n",
       "2  Jet Airways       9/06/2019     Delhi      Cochin  DEL → LKO → BOM → COK   \n",
       "3       IndiGo      12/05/2019   Kolkata    Banglore        CCU → NAG → BLR   \n",
       "4       IndiGo      01/03/2019  Banglore   New Delhi        BLR → NAG → DEL   \n",
       "\n",
       "  Dep_Time  Arrival_Time Duration Total_Stops Additional_Info  Price  \n",
       "0    22:20  01:10 22 Mar   2h 50m    non-stop         No info   3897  \n",
       "1    05:50         13:15   7h 25m     2 stops         No info   7662  \n",
       "2    09:25  04:25 10 Jun      19h     2 stops         No info  13882  \n",
       "3    18:05         23:30   5h 25m      1 stop         No info   6218  \n",
       "4    16:50         21:35   4h 45m      1 stop         No info  13302  "
      ]
     },
     "execution_count": 90,
     "metadata": {},
     "output_type": "execute_result"
    }
   ],
   "source": [
    "df.head()"
   ]
  },
  {
   "cell_type": "code",
   "execution_count": 91,
   "id": "6ded9391",
   "metadata": {},
   "outputs": [],
   "source": [
    "df.drop(['Route'],axis=1,inplace=True)"
   ]
  },
  {
   "cell_type": "code",
   "execution_count": 92,
   "id": "81d4af79",
   "metadata": {},
   "outputs": [
    {
     "data": {
      "text/html": [
       "<div>\n",
       "<style scoped>\n",
       "    .dataframe tbody tr th:only-of-type {\n",
       "        vertical-align: middle;\n",
       "    }\n",
       "\n",
       "    .dataframe tbody tr th {\n",
       "        vertical-align: top;\n",
       "    }\n",
       "\n",
       "    .dataframe thead th {\n",
       "        text-align: right;\n",
       "    }\n",
       "</style>\n",
       "<table border=\"1\" class=\"dataframe\">\n",
       "  <thead>\n",
       "    <tr style=\"text-align: right;\">\n",
       "      <th></th>\n",
       "      <th>Airline</th>\n",
       "      <th>Date_of_Journey</th>\n",
       "      <th>Source</th>\n",
       "      <th>Destination</th>\n",
       "      <th>Dep_Time</th>\n",
       "      <th>Arrival_Time</th>\n",
       "      <th>Duration</th>\n",
       "      <th>Total_Stops</th>\n",
       "      <th>Additional_Info</th>\n",
       "      <th>Price</th>\n",
       "    </tr>\n",
       "  </thead>\n",
       "  <tbody>\n",
       "    <tr>\n",
       "      <th>0</th>\n",
       "      <td>IndiGo</td>\n",
       "      <td>24/03/2019</td>\n",
       "      <td>Banglore</td>\n",
       "      <td>New Delhi</td>\n",
       "      <td>22:20</td>\n",
       "      <td>01:10 22 Mar</td>\n",
       "      <td>2h 50m</td>\n",
       "      <td>non-stop</td>\n",
       "      <td>No info</td>\n",
       "      <td>3897</td>\n",
       "    </tr>\n",
       "    <tr>\n",
       "      <th>1</th>\n",
       "      <td>Air India</td>\n",
       "      <td>1/05/2019</td>\n",
       "      <td>Kolkata</td>\n",
       "      <td>Banglore</td>\n",
       "      <td>05:50</td>\n",
       "      <td>13:15</td>\n",
       "      <td>7h 25m</td>\n",
       "      <td>2 stops</td>\n",
       "      <td>No info</td>\n",
       "      <td>7662</td>\n",
       "    </tr>\n",
       "    <tr>\n",
       "      <th>2</th>\n",
       "      <td>Jet Airways</td>\n",
       "      <td>9/06/2019</td>\n",
       "      <td>Delhi</td>\n",
       "      <td>Cochin</td>\n",
       "      <td>09:25</td>\n",
       "      <td>04:25 10 Jun</td>\n",
       "      <td>19h</td>\n",
       "      <td>2 stops</td>\n",
       "      <td>No info</td>\n",
       "      <td>13882</td>\n",
       "    </tr>\n",
       "    <tr>\n",
       "      <th>3</th>\n",
       "      <td>IndiGo</td>\n",
       "      <td>12/05/2019</td>\n",
       "      <td>Kolkata</td>\n",
       "      <td>Banglore</td>\n",
       "      <td>18:05</td>\n",
       "      <td>23:30</td>\n",
       "      <td>5h 25m</td>\n",
       "      <td>1 stop</td>\n",
       "      <td>No info</td>\n",
       "      <td>6218</td>\n",
       "    </tr>\n",
       "    <tr>\n",
       "      <th>4</th>\n",
       "      <td>IndiGo</td>\n",
       "      <td>01/03/2019</td>\n",
       "      <td>Banglore</td>\n",
       "      <td>New Delhi</td>\n",
       "      <td>16:50</td>\n",
       "      <td>21:35</td>\n",
       "      <td>4h 45m</td>\n",
       "      <td>1 stop</td>\n",
       "      <td>No info</td>\n",
       "      <td>13302</td>\n",
       "    </tr>\n",
       "  </tbody>\n",
       "</table>\n",
       "</div>"
      ],
      "text/plain": [
       "       Airline Date_of_Journey    Source Destination Dep_Time  Arrival_Time  \\\n",
       "0       IndiGo      24/03/2019  Banglore   New Delhi    22:20  01:10 22 Mar   \n",
       "1    Air India       1/05/2019   Kolkata    Banglore    05:50         13:15   \n",
       "2  Jet Airways       9/06/2019     Delhi      Cochin    09:25  04:25 10 Jun   \n",
       "3       IndiGo      12/05/2019   Kolkata    Banglore    18:05         23:30   \n",
       "4       IndiGo      01/03/2019  Banglore   New Delhi    16:50         21:35   \n",
       "\n",
       "  Duration Total_Stops Additional_Info  Price  \n",
       "0   2h 50m    non-stop         No info   3897  \n",
       "1   7h 25m     2 stops         No info   7662  \n",
       "2      19h     2 stops         No info  13882  \n",
       "3   5h 25m      1 stop         No info   6218  \n",
       "4   4h 45m      1 stop         No info  13302  "
      ]
     },
     "execution_count": 92,
     "metadata": {},
     "output_type": "execute_result"
    }
   ],
   "source": [
    "df.head()"
   ]
  },
  {
   "cell_type": "code",
   "execution_count": 93,
   "id": "9ad445d9",
   "metadata": {},
   "outputs": [
    {
     "data": {
      "text/plain": [
       "(Jet Airways                          3849\n",
       " IndiGo                               2053\n",
       " Air India                            1751\n",
       " Multiple carriers                    1196\n",
       " SpiceJet                              818\n",
       " Vistara                               479\n",
       " Air Asia                              319\n",
       " GoAir                                 194\n",
       " Multiple carriers Premium economy      13\n",
       " Jet Airways Business                    6\n",
       " Vistara Premium economy                 3\n",
       " Trujet                                  1\n",
       " Name: Airline, dtype: int64,\n",
       " Delhi       4536\n",
       " Kolkata     2871\n",
       " Banglore    2197\n",
       " Mumbai       697\n",
       " Chennai      381\n",
       " Name: Source, dtype: int64,\n",
       " Cochin       4536\n",
       " Banglore     2871\n",
       " Delhi        1265\n",
       " New Delhi     932\n",
       " Hyderabad     697\n",
       " Kolkata       381\n",
       " Name: Destination, dtype: int64)"
      ]
     },
     "execution_count": 93,
     "metadata": {},
     "output_type": "execute_result"
    }
   ],
   "source": [
    "df.Airline.value_counts(),df.Source.value_counts(),df.Destination.value_counts()"
   ]
  },
  {
   "cell_type": "code",
   "execution_count": 94,
   "id": "4e7dbf17",
   "metadata": {},
   "outputs": [],
   "source": [
    "Airline = pd.get_dummies(df['Airline'])\n",
    "Source = pd.get_dummies(df['Source'])\n",
    "Destination = pd.get_dummies(df['Destination'])"
   ]
  },
  {
   "cell_type": "code",
   "execution_count": 95,
   "id": "7483a5ce",
   "metadata": {},
   "outputs": [],
   "source": [
    "df['Jounrney_date'] = pd.to_datetime(df['Date_of_Journey'],format=\"%d/%m/%Y\").dt.day\n",
    "df['Jounrney_month'] = pd.to_datetime(df['Date_of_Journey'],format=\"%d/%m/%Y\").dt.month\n"
   ]
  },
  {
   "cell_type": "code",
   "execution_count": 96,
   "id": "0becf2cd",
   "metadata": {},
   "outputs": [],
   "source": [
    "df.drop(['Date_of_Journey'],axis=1,inplace=True)"
   ]
  },
  {
   "cell_type": "code",
   "execution_count": 97,
   "id": "d6cc2ddc",
   "metadata": {},
   "outputs": [],
   "source": [
    "df['Dep_hour'] = pd.to_datetime(df['Dep_Time']).dt.hour\n",
    "df['Dep_min'] = pd.to_datetime(df['Dep_Time']).dt.minute"
   ]
  },
  {
   "cell_type": "code",
   "execution_count": 98,
   "id": "873025b4",
   "metadata": {},
   "outputs": [],
   "source": [
    "df.drop(['Dep_Time'],axis=1,inplace=True)"
   ]
  },
  {
   "cell_type": "code",
   "execution_count": 99,
   "id": "7636e3ac",
   "metadata": {},
   "outputs": [],
   "source": [
    "df['Arr_hour'] = pd.to_datetime(df['Arrival_Time']).dt.hour\n",
    "df['Arr_min'] = pd.to_datetime(df['Arrival_Time']).dt.minute"
   ]
  },
  {
   "cell_type": "code",
   "execution_count": 100,
   "id": "ae2fb9b2",
   "metadata": {},
   "outputs": [],
   "source": [
    "df.drop(['Arrival_Time'],axis=1,inplace=True)"
   ]
  },
  {
   "cell_type": "code",
   "execution_count": 101,
   "id": "583872a8",
   "metadata": {},
   "outputs": [
    {
     "data": {
      "text/html": [
       "<div>\n",
       "<style scoped>\n",
       "    .dataframe tbody tr th:only-of-type {\n",
       "        vertical-align: middle;\n",
       "    }\n",
       "\n",
       "    .dataframe tbody tr th {\n",
       "        vertical-align: top;\n",
       "    }\n",
       "\n",
       "    .dataframe thead th {\n",
       "        text-align: right;\n",
       "    }\n",
       "</style>\n",
       "<table border=\"1\" class=\"dataframe\">\n",
       "  <thead>\n",
       "    <tr style=\"text-align: right;\">\n",
       "      <th></th>\n",
       "      <th>Airline</th>\n",
       "      <th>Source</th>\n",
       "      <th>Destination</th>\n",
       "      <th>Duration</th>\n",
       "      <th>Total_Stops</th>\n",
       "      <th>Additional_Info</th>\n",
       "      <th>Price</th>\n",
       "      <th>Jounrney_date</th>\n",
       "      <th>Jounrney_month</th>\n",
       "      <th>Dep_hour</th>\n",
       "      <th>Dep_min</th>\n",
       "      <th>Arr_hour</th>\n",
       "      <th>Arr_min</th>\n",
       "    </tr>\n",
       "  </thead>\n",
       "  <tbody>\n",
       "    <tr>\n",
       "      <th>0</th>\n",
       "      <td>IndiGo</td>\n",
       "      <td>Banglore</td>\n",
       "      <td>New Delhi</td>\n",
       "      <td>2h 50m</td>\n",
       "      <td>non-stop</td>\n",
       "      <td>No info</td>\n",
       "      <td>3897</td>\n",
       "      <td>24</td>\n",
       "      <td>3</td>\n",
       "      <td>22</td>\n",
       "      <td>20</td>\n",
       "      <td>1</td>\n",
       "      <td>10</td>\n",
       "    </tr>\n",
       "    <tr>\n",
       "      <th>1</th>\n",
       "      <td>Air India</td>\n",
       "      <td>Kolkata</td>\n",
       "      <td>Banglore</td>\n",
       "      <td>7h 25m</td>\n",
       "      <td>2 stops</td>\n",
       "      <td>No info</td>\n",
       "      <td>7662</td>\n",
       "      <td>1</td>\n",
       "      <td>5</td>\n",
       "      <td>5</td>\n",
       "      <td>50</td>\n",
       "      <td>13</td>\n",
       "      <td>15</td>\n",
       "    </tr>\n",
       "    <tr>\n",
       "      <th>2</th>\n",
       "      <td>Jet Airways</td>\n",
       "      <td>Delhi</td>\n",
       "      <td>Cochin</td>\n",
       "      <td>19h</td>\n",
       "      <td>2 stops</td>\n",
       "      <td>No info</td>\n",
       "      <td>13882</td>\n",
       "      <td>9</td>\n",
       "      <td>6</td>\n",
       "      <td>9</td>\n",
       "      <td>25</td>\n",
       "      <td>4</td>\n",
       "      <td>25</td>\n",
       "    </tr>\n",
       "    <tr>\n",
       "      <th>3</th>\n",
       "      <td>IndiGo</td>\n",
       "      <td>Kolkata</td>\n",
       "      <td>Banglore</td>\n",
       "      <td>5h 25m</td>\n",
       "      <td>1 stop</td>\n",
       "      <td>No info</td>\n",
       "      <td>6218</td>\n",
       "      <td>12</td>\n",
       "      <td>5</td>\n",
       "      <td>18</td>\n",
       "      <td>5</td>\n",
       "      <td>23</td>\n",
       "      <td>30</td>\n",
       "    </tr>\n",
       "    <tr>\n",
       "      <th>4</th>\n",
       "      <td>IndiGo</td>\n",
       "      <td>Banglore</td>\n",
       "      <td>New Delhi</td>\n",
       "      <td>4h 45m</td>\n",
       "      <td>1 stop</td>\n",
       "      <td>No info</td>\n",
       "      <td>13302</td>\n",
       "      <td>1</td>\n",
       "      <td>3</td>\n",
       "      <td>16</td>\n",
       "      <td>50</td>\n",
       "      <td>21</td>\n",
       "      <td>35</td>\n",
       "    </tr>\n",
       "  </tbody>\n",
       "</table>\n",
       "</div>"
      ],
      "text/plain": [
       "       Airline    Source Destination Duration Total_Stops Additional_Info  \\\n",
       "0       IndiGo  Banglore   New Delhi   2h 50m    non-stop         No info   \n",
       "1    Air India   Kolkata    Banglore   7h 25m     2 stops         No info   \n",
       "2  Jet Airways     Delhi      Cochin      19h     2 stops         No info   \n",
       "3       IndiGo   Kolkata    Banglore   5h 25m      1 stop         No info   \n",
       "4       IndiGo  Banglore   New Delhi   4h 45m      1 stop         No info   \n",
       "\n",
       "   Price  Jounrney_date  Jounrney_month  Dep_hour  Dep_min  Arr_hour  Arr_min  \n",
       "0   3897             24               3        22       20         1       10  \n",
       "1   7662              1               5         5       50        13       15  \n",
       "2  13882              9               6         9       25         4       25  \n",
       "3   6218             12               5        18        5        23       30  \n",
       "4  13302              1               3        16       50        21       35  "
      ]
     },
     "execution_count": 101,
     "metadata": {},
     "output_type": "execute_result"
    }
   ],
   "source": [
    "df.head()"
   ]
  },
  {
   "cell_type": "code",
   "execution_count": 113,
   "id": "a38be3b6",
   "metadata": {},
   "outputs": [],
   "source": [
    "new= df['Duration'].str.split(\" \",n=1,expand=True)"
   ]
  },
  {
   "cell_type": "code",
   "execution_count": 126,
   "id": "aea12dc2",
   "metadata": {},
   "outputs": [],
   "source": [
    "nw1= new[0].str.split(\"h\",n=1,expand=True)\n",
    "df['Duration_hr']=nw1[0]"
   ]
  },
  {
   "cell_type": "code",
   "execution_count": 127,
   "id": "df26bbb6",
   "metadata": {},
   "outputs": [],
   "source": [
    "nw2= new[1].str.split(\"m\",n=1,expand=True)\n",
    "df['Duration_minute']=nw2[0]"
   ]
  },
  {
   "cell_type": "code",
   "execution_count": 128,
   "id": "b3456b5c",
   "metadata": {},
   "outputs": [
    {
     "data": {
      "text/html": [
       "<div>\n",
       "<style scoped>\n",
       "    .dataframe tbody tr th:only-of-type {\n",
       "        vertical-align: middle;\n",
       "    }\n",
       "\n",
       "    .dataframe tbody tr th {\n",
       "        vertical-align: top;\n",
       "    }\n",
       "\n",
       "    .dataframe thead th {\n",
       "        text-align: right;\n",
       "    }\n",
       "</style>\n",
       "<table border=\"1\" class=\"dataframe\">\n",
       "  <thead>\n",
       "    <tr style=\"text-align: right;\">\n",
       "      <th></th>\n",
       "      <th>Airline</th>\n",
       "      <th>Source</th>\n",
       "      <th>Destination</th>\n",
       "      <th>Duration</th>\n",
       "      <th>Total_Stops</th>\n",
       "      <th>Additional_Info</th>\n",
       "      <th>Price</th>\n",
       "      <th>Jounrney_date</th>\n",
       "      <th>Jounrney_month</th>\n",
       "      <th>Dep_hour</th>\n",
       "      <th>Dep_min</th>\n",
       "      <th>Arr_hour</th>\n",
       "      <th>Arr_min</th>\n",
       "      <th>Duration_hr</th>\n",
       "      <th>Duration_minute</th>\n",
       "    </tr>\n",
       "  </thead>\n",
       "  <tbody>\n",
       "    <tr>\n",
       "      <th>0</th>\n",
       "      <td>IndiGo</td>\n",
       "      <td>Banglore</td>\n",
       "      <td>New Delhi</td>\n",
       "      <td>2h 50m</td>\n",
       "      <td>non-stop</td>\n",
       "      <td>No info</td>\n",
       "      <td>3897</td>\n",
       "      <td>24</td>\n",
       "      <td>3</td>\n",
       "      <td>22</td>\n",
       "      <td>20</td>\n",
       "      <td>1</td>\n",
       "      <td>10</td>\n",
       "      <td>2</td>\n",
       "      <td>50</td>\n",
       "    </tr>\n",
       "    <tr>\n",
       "      <th>1</th>\n",
       "      <td>Air India</td>\n",
       "      <td>Kolkata</td>\n",
       "      <td>Banglore</td>\n",
       "      <td>7h 25m</td>\n",
       "      <td>2 stops</td>\n",
       "      <td>No info</td>\n",
       "      <td>7662</td>\n",
       "      <td>1</td>\n",
       "      <td>5</td>\n",
       "      <td>5</td>\n",
       "      <td>50</td>\n",
       "      <td>13</td>\n",
       "      <td>15</td>\n",
       "      <td>7</td>\n",
       "      <td>25</td>\n",
       "    </tr>\n",
       "    <tr>\n",
       "      <th>2</th>\n",
       "      <td>Jet Airways</td>\n",
       "      <td>Delhi</td>\n",
       "      <td>Cochin</td>\n",
       "      <td>19h</td>\n",
       "      <td>2 stops</td>\n",
       "      <td>No info</td>\n",
       "      <td>13882</td>\n",
       "      <td>9</td>\n",
       "      <td>6</td>\n",
       "      <td>9</td>\n",
       "      <td>25</td>\n",
       "      <td>4</td>\n",
       "      <td>25</td>\n",
       "      <td>19</td>\n",
       "      <td>None</td>\n",
       "    </tr>\n",
       "    <tr>\n",
       "      <th>3</th>\n",
       "      <td>IndiGo</td>\n",
       "      <td>Kolkata</td>\n",
       "      <td>Banglore</td>\n",
       "      <td>5h 25m</td>\n",
       "      <td>1 stop</td>\n",
       "      <td>No info</td>\n",
       "      <td>6218</td>\n",
       "      <td>12</td>\n",
       "      <td>5</td>\n",
       "      <td>18</td>\n",
       "      <td>5</td>\n",
       "      <td>23</td>\n",
       "      <td>30</td>\n",
       "      <td>5</td>\n",
       "      <td>25</td>\n",
       "    </tr>\n",
       "    <tr>\n",
       "      <th>4</th>\n",
       "      <td>IndiGo</td>\n",
       "      <td>Banglore</td>\n",
       "      <td>New Delhi</td>\n",
       "      <td>4h 45m</td>\n",
       "      <td>1 stop</td>\n",
       "      <td>No info</td>\n",
       "      <td>13302</td>\n",
       "      <td>1</td>\n",
       "      <td>3</td>\n",
       "      <td>16</td>\n",
       "      <td>50</td>\n",
       "      <td>21</td>\n",
       "      <td>35</td>\n",
       "      <td>4</td>\n",
       "      <td>45</td>\n",
       "    </tr>\n",
       "  </tbody>\n",
       "</table>\n",
       "</div>"
      ],
      "text/plain": [
       "       Airline    Source Destination Duration Total_Stops Additional_Info  \\\n",
       "0       IndiGo  Banglore   New Delhi   2h 50m    non-stop         No info   \n",
       "1    Air India   Kolkata    Banglore   7h 25m     2 stops         No info   \n",
       "2  Jet Airways     Delhi      Cochin      19h     2 stops         No info   \n",
       "3       IndiGo   Kolkata    Banglore   5h 25m      1 stop         No info   \n",
       "4       IndiGo  Banglore   New Delhi   4h 45m      1 stop         No info   \n",
       "\n",
       "   Price  Jounrney_date  Jounrney_month  Dep_hour  Dep_min  Arr_hour  Arr_min  \\\n",
       "0   3897             24               3        22       20         1       10   \n",
       "1   7662              1               5         5       50        13       15   \n",
       "2  13882              9               6         9       25         4       25   \n",
       "3   6218             12               5        18        5        23       30   \n",
       "4  13302              1               3        16       50        21       35   \n",
       "\n",
       "  Duration_hr Duration_minute  \n",
       "0           2              50  \n",
       "1           7              25  \n",
       "2          19            None  \n",
       "3           5              25  \n",
       "4           4              45  "
      ]
     },
     "execution_count": 128,
     "metadata": {},
     "output_type": "execute_result"
    }
   ],
   "source": [
    "df.head()"
   ]
  },
  {
   "cell_type": "code",
   "execution_count": 136,
   "id": "86dda10d",
   "metadata": {},
   "outputs": [],
   "source": [
    "df.replace(to_replace=np.nan,value=0,inplace=True)"
   ]
  },
  {
   "cell_type": "code",
   "execution_count": 138,
   "id": "4448290b",
   "metadata": {},
   "outputs": [],
   "source": [
    "df.drop(['Duration'],axis=1,inplace=True)"
   ]
  },
  {
   "cell_type": "code",
   "execution_count": 139,
   "id": "7d9537da",
   "metadata": {},
   "outputs": [
    {
     "data": {
      "text/html": [
       "<div>\n",
       "<style scoped>\n",
       "    .dataframe tbody tr th:only-of-type {\n",
       "        vertical-align: middle;\n",
       "    }\n",
       "\n",
       "    .dataframe tbody tr th {\n",
       "        vertical-align: top;\n",
       "    }\n",
       "\n",
       "    .dataframe thead th {\n",
       "        text-align: right;\n",
       "    }\n",
       "</style>\n",
       "<table border=\"1\" class=\"dataframe\">\n",
       "  <thead>\n",
       "    <tr style=\"text-align: right;\">\n",
       "      <th></th>\n",
       "      <th>Airline</th>\n",
       "      <th>Source</th>\n",
       "      <th>Destination</th>\n",
       "      <th>Total_Stops</th>\n",
       "      <th>Additional_Info</th>\n",
       "      <th>Price</th>\n",
       "      <th>Jounrney_date</th>\n",
       "      <th>Jounrney_month</th>\n",
       "      <th>Dep_hour</th>\n",
       "      <th>Dep_min</th>\n",
       "      <th>Arr_hour</th>\n",
       "      <th>Arr_min</th>\n",
       "      <th>Duration_hr</th>\n",
       "      <th>Duration_minute</th>\n",
       "    </tr>\n",
       "  </thead>\n",
       "  <tbody>\n",
       "    <tr>\n",
       "      <th>0</th>\n",
       "      <td>IndiGo</td>\n",
       "      <td>Banglore</td>\n",
       "      <td>New Delhi</td>\n",
       "      <td>non-stop</td>\n",
       "      <td>No info</td>\n",
       "      <td>3897</td>\n",
       "      <td>24</td>\n",
       "      <td>3</td>\n",
       "      <td>22</td>\n",
       "      <td>20</td>\n",
       "      <td>1</td>\n",
       "      <td>10</td>\n",
       "      <td>2</td>\n",
       "      <td>50</td>\n",
       "    </tr>\n",
       "    <tr>\n",
       "      <th>1</th>\n",
       "      <td>Air India</td>\n",
       "      <td>Kolkata</td>\n",
       "      <td>Banglore</td>\n",
       "      <td>2 stops</td>\n",
       "      <td>No info</td>\n",
       "      <td>7662</td>\n",
       "      <td>1</td>\n",
       "      <td>5</td>\n",
       "      <td>5</td>\n",
       "      <td>50</td>\n",
       "      <td>13</td>\n",
       "      <td>15</td>\n",
       "      <td>7</td>\n",
       "      <td>25</td>\n",
       "    </tr>\n",
       "    <tr>\n",
       "      <th>2</th>\n",
       "      <td>Jet Airways</td>\n",
       "      <td>Delhi</td>\n",
       "      <td>Cochin</td>\n",
       "      <td>2 stops</td>\n",
       "      <td>No info</td>\n",
       "      <td>13882</td>\n",
       "      <td>9</td>\n",
       "      <td>6</td>\n",
       "      <td>9</td>\n",
       "      <td>25</td>\n",
       "      <td>4</td>\n",
       "      <td>25</td>\n",
       "      <td>19</td>\n",
       "      <td>0</td>\n",
       "    </tr>\n",
       "    <tr>\n",
       "      <th>3</th>\n",
       "      <td>IndiGo</td>\n",
       "      <td>Kolkata</td>\n",
       "      <td>Banglore</td>\n",
       "      <td>1 stop</td>\n",
       "      <td>No info</td>\n",
       "      <td>6218</td>\n",
       "      <td>12</td>\n",
       "      <td>5</td>\n",
       "      <td>18</td>\n",
       "      <td>5</td>\n",
       "      <td>23</td>\n",
       "      <td>30</td>\n",
       "      <td>5</td>\n",
       "      <td>25</td>\n",
       "    </tr>\n",
       "    <tr>\n",
       "      <th>4</th>\n",
       "      <td>IndiGo</td>\n",
       "      <td>Banglore</td>\n",
       "      <td>New Delhi</td>\n",
       "      <td>1 stop</td>\n",
       "      <td>No info</td>\n",
       "      <td>13302</td>\n",
       "      <td>1</td>\n",
       "      <td>3</td>\n",
       "      <td>16</td>\n",
       "      <td>50</td>\n",
       "      <td>21</td>\n",
       "      <td>35</td>\n",
       "      <td>4</td>\n",
       "      <td>45</td>\n",
       "    </tr>\n",
       "  </tbody>\n",
       "</table>\n",
       "</div>"
      ],
      "text/plain": [
       "       Airline    Source Destination Total_Stops Additional_Info  Price  \\\n",
       "0       IndiGo  Banglore   New Delhi    non-stop         No info   3897   \n",
       "1    Air India   Kolkata    Banglore     2 stops         No info   7662   \n",
       "2  Jet Airways     Delhi      Cochin     2 stops         No info  13882   \n",
       "3       IndiGo   Kolkata    Banglore      1 stop         No info   6218   \n",
       "4       IndiGo  Banglore   New Delhi      1 stop         No info  13302   \n",
       "\n",
       "   Jounrney_date  Jounrney_month  Dep_hour  Dep_min  Arr_hour  Arr_min  \\\n",
       "0             24               3        22       20         1       10   \n",
       "1              1               5         5       50        13       15   \n",
       "2              9               6         9       25         4       25   \n",
       "3             12               5        18        5        23       30   \n",
       "4              1               3        16       50        21       35   \n",
       "\n",
       "  Duration_hr Duration_minute  \n",
       "0           2              50  \n",
       "1           7              25  \n",
       "2          19               0  \n",
       "3           5              25  \n",
       "4           4              45  "
      ]
     },
     "execution_count": 139,
     "metadata": {},
     "output_type": "execute_result"
    }
   ],
   "source": [
    "df.head()"
   ]
  },
  {
   "cell_type": "code",
   "execution_count": 145,
   "id": "6e71b571",
   "metadata": {},
   "outputs": [
    {
     "data": {
      "image/png": "[encoded data removed]",
      "text/plain": [
       "<Figure size 720x360 with 1 Axes>"
      ]
     },
     "metadata": {
      "needs_background": "light"
     },
     "output_type": "display_data"
    }
   ],
   "source": [
    "plt.figure(figsize=[10,5])\n",
    "\n",
    "sns.boxenplot(x='Airline',y='Price',data=df)\n",
    "plt.xticks(rotation=45)\n",
    "plt.show()"
   ]
  },
  {
   "cell_type": "code",
   "execution_count": 146,
   "id": "4e0de5a6",
   "metadata": {},
   "outputs": [
    {
     "data": {
      "text/plain": [
       "<matplotlib.axes._subplots.AxesSubplot at 0x1b5b85f6d30>"
      ]
     },
     "execution_count": 146,
     "metadata": {},
     "output_type": "execute_result"
    },
    {
     "data": {
      "image/png": "[encoded data removed]",
      "text/plain": [
       "<Figure size 720x360 with 1 Axes>"
      ]
     },
     "metadata": {
      "needs_background": "light"
     },
     "output_type": "display_data"
    }
   ],
   "source": [
    "plt.figure(figsize=[10,5])\n",
    "sns.boxenplot(x='Source',y='Price',data=df)"
   ]
  },
  {
   "cell_type": "code",
   "execution_count": 149,
   "id": "16761913",
   "metadata": {},
   "outputs": [],
   "source": [
    "df=pd.concat([df,Airline,Source,Destination],axis=1)"
   ]
  },
  {
   "cell_type": "code",
   "execution_count": 151,
   "id": "6560e991",
   "metadata": {},
   "outputs": [],
   "source": [
    "df.drop(['Airline','Source','Destination'],axis=1,inplace=True)"
   ]
  },
  {
   "cell_type": "code",
   "execution_count": 153,
   "id": "af2ce171",
   "metadata": {},
   "outputs": [],
   "source": [
    "df.drop(['Additional_Info'],axis=1,inplace=True)"
   ]
  },
  {
   "cell_type": "code",
   "execution_count": 154,
   "id": "dbefe71a",
   "metadata": {},
   "outputs": [
    {
     "data": {
      "text/plain": [
       "1 stop      5625\n",
       "non-stop    3491\n",
       "2 stops     1520\n",
       "3 stops       45\n",
       "4 stops        1\n",
       "Name: Total_Stops, dtype: int64"
      ]
     },
     "execution_count": 154,
     "metadata": {},
     "output_type": "execute_result"
    }
   ],
   "source": [
    "df['Total_Stops'].value_counts()"
   ]
  },
  {
   "cell_type": "code",
   "execution_count": 160,
   "id": "d7a7886d",
   "metadata": {},
   "outputs": [],
   "source": [
    "df['Total_Stops']=pd.DataFrame(le.fit_transform(df['Total_Stops']))"
   ]
  },
  {
   "cell_type": "code",
   "execution_count": 162,
   "id": "27090cdd",
   "metadata": {},
   "outputs": [
    {
     "data": {
      "text/html": [
       "<div>\n",
       "<style scoped>\n",
       "    .dataframe tbody tr th:only-of-type {\n",
       "        vertical-align: middle;\n",
       "    }\n",
       "\n",
       "    .dataframe tbody tr th {\n",
       "        vertical-align: top;\n",
       "    }\n",
       "\n",
       "    .dataframe thead th {\n",
       "        text-align: right;\n",
       "    }\n",
       "</style>\n",
       "<table border=\"1\" class=\"dataframe\">\n",
       "  <thead>\n",
       "    <tr style=\"text-align: right;\">\n",
       "      <th></th>\n",
       "      <th>Total_Stops</th>\n",
       "      <th>Price</th>\n",
       "      <th>Jounrney_date</th>\n",
       "      <th>Jounrney_month</th>\n",
       "      <th>Dep_hour</th>\n",
       "      <th>Dep_min</th>\n",
       "      <th>Arr_hour</th>\n",
       "      <th>Arr_min</th>\n",
       "      <th>Duration_hr</th>\n",
       "      <th>Duration_minute</th>\n",
       "      <th>...</th>\n",
       "      <th>Chennai</th>\n",
       "      <th>Delhi</th>\n",
       "      <th>Kolkata</th>\n",
       "      <th>Mumbai</th>\n",
       "      <th>Banglore</th>\n",
       "      <th>Cochin</th>\n",
       "      <th>Delhi</th>\n",
       "      <th>Hyderabad</th>\n",
       "      <th>Kolkata</th>\n",
       "      <th>New Delhi</th>\n",
       "    </tr>\n",
       "  </thead>\n",
       "  <tbody>\n",
       "    <tr>\n",
       "      <th>0</th>\n",
       "      <td>4.0</td>\n",
       "      <td>3897</td>\n",
       "      <td>24</td>\n",
       "      <td>3</td>\n",
       "      <td>22</td>\n",
       "      <td>20</td>\n",
       "      <td>1</td>\n",
       "      <td>10</td>\n",
       "      <td>2</td>\n",
       "      <td>50</td>\n",
       "      <td>...</td>\n",
       "      <td>0</td>\n",
       "      <td>0</td>\n",
       "      <td>0</td>\n",
       "      <td>0</td>\n",
       "      <td>0</td>\n",
       "      <td>0</td>\n",
       "      <td>0</td>\n",
       "      <td>0</td>\n",
       "      <td>0</td>\n",
       "      <td>1</td>\n",
       "    </tr>\n",
       "    <tr>\n",
       "      <th>1</th>\n",
       "      <td>1.0</td>\n",
       "      <td>7662</td>\n",
       "      <td>1</td>\n",
       "      <td>5</td>\n",
       "      <td>5</td>\n",
       "      <td>50</td>\n",
       "      <td>13</td>\n",
       "      <td>15</td>\n",
       "      <td>7</td>\n",
       "      <td>25</td>\n",
       "      <td>...</td>\n",
       "      <td>0</td>\n",
       "      <td>0</td>\n",
       "      <td>1</td>\n",
       "      <td>0</td>\n",
       "      <td>1</td>\n",
       "      <td>0</td>\n",
       "      <td>0</td>\n",
       "      <td>0</td>\n",
       "      <td>0</td>\n",
       "      <td>0</td>\n",
       "    </tr>\n",
       "    <tr>\n",
       "      <th>2</th>\n",
       "      <td>1.0</td>\n",
       "      <td>13882</td>\n",
       "      <td>9</td>\n",
       "      <td>6</td>\n",
       "      <td>9</td>\n",
       "      <td>25</td>\n",
       "      <td>4</td>\n",
       "      <td>25</td>\n",
       "      <td>19</td>\n",
       "      <td>0</td>\n",
       "      <td>...</td>\n",
       "      <td>0</td>\n",
       "      <td>1</td>\n",
       "      <td>0</td>\n",
       "      <td>0</td>\n",
       "      <td>0</td>\n",
       "      <td>1</td>\n",
       "      <td>0</td>\n",
       "      <td>0</td>\n",
       "      <td>0</td>\n",
       "      <td>0</td>\n",
       "    </tr>\n",
       "    <tr>\n",
       "      <th>3</th>\n",
       "      <td>0.0</td>\n",
       "      <td>6218</td>\n",
       "      <td>12</td>\n",
       "      <td>5</td>\n",
       "      <td>18</td>\n",
       "      <td>5</td>\n",
       "      <td>23</td>\n",
       "      <td>30</td>\n",
       "      <td>5</td>\n",
       "      <td>25</td>\n",
       "      <td>...</td>\n",
       "      <td>0</td>\n",
       "      <td>0</td>\n",
       "      <td>1</td>\n",
       "      <td>0</td>\n",
       "      <td>1</td>\n",
       "      <td>0</td>\n",
       "      <td>0</td>\n",
       "      <td>0</td>\n",
       "      <td>0</td>\n",
       "      <td>0</td>\n",
       "    </tr>\n",
       "    <tr>\n",
       "      <th>4</th>\n",
       "      <td>0.0</td>\n",
       "      <td>13302</td>\n",
       "      <td>1</td>\n",
       "      <td>3</td>\n",
       "      <td>16</td>\n",
       "      <td>50</td>\n",
       "      <td>21</td>\n",
       "      <td>35</td>\n",
       "      <td>4</td>\n",
       "      <td>45</td>\n",
       "      <td>...</td>\n",
       "      <td>0</td>\n",
       "      <td>0</td>\n",
       "      <td>0</td>\n",
       "      <td>0</td>\n",
       "      <td>0</td>\n",
       "      <td>0</td>\n",
       "      <td>0</td>\n",
       "      <td>0</td>\n",
       "      <td>0</td>\n",
       "      <td>1</td>\n",
       "    </tr>\n",
       "  </tbody>\n",
       "</table>\n",
       "<p>5 rows × 33 columns</p>\n",
       "</div>"
      ],
      "text/plain": [
       "   Total_Stops  Price  Jounrney_date  Jounrney_month  Dep_hour  Dep_min  \\\n",
       "0          4.0   3897             24               3        22       20   \n",
       "1          1.0   7662              1               5         5       50   \n",
       "2          1.0  13882              9               6         9       25   \n",
       "3          0.0   6218             12               5        18        5   \n",
       "4          0.0  13302              1               3        16       50   \n",
       "\n",
       "   Arr_hour  Arr_min Duration_hr Duration_minute  ...  Chennai  Delhi  \\\n",
       "0         1       10           2              50  ...        0      0   \n",
       "1        13       15           7              25  ...        0      0   \n",
       "2         4       25          19               0  ...        0      1   \n",
       "3        23       30           5              25  ...        0      0   \n",
       "4        21       35           4              45  ...        0      0   \n",
       "\n",
       "   Kolkata  Mumbai  Banglore  Cochin  Delhi  Hyderabad  Kolkata  New Delhi  \n",
       "0        0       0         0       0      0          0        0          1  \n",
       "1        1       0         1       0      0          0        0          0  \n",
       "2        0       0         0       1      0          0        0          0  \n",
       "3        1       0         1       0      0          0        0          0  \n",
       "4        0       0         0       0      0          0        0          1  \n",
       "\n",
       "[5 rows x 33 columns]"
      ]
     },
     "execution_count": 162,
     "metadata": {},
     "output_type": "execute_result"
    }
   ],
   "source": [
    "df.head()"
   ]
  },
  {
   "cell_type": "code",
   "execution_count": 198,
   "id": "9550286d",
   "metadata": {},
   "outputs": [
    {
     "data": {
      "text/plain": [
       "(10681, 33)"
      ]
     },
     "execution_count": 198,
     "metadata": {},
     "output_type": "execute_result"
    }
   ],
   "source": [
    "df.shape"
   ]
  },
  {
   "cell_type": "code",
   "execution_count": 199,
   "id": "c62279ed",
   "metadata": {},
   "outputs": [
    {
     "data": {
      "text/plain": [
       "Index(['Total_Stops', 'Price', 'Jounrney_date', 'Jounrney_month', 'Dep_hour',\n",
       "       'Dep_min', 'Arr_hour', 'Arr_min', 'Duration_hr', 'Duration_minute',\n",
       "       'Air Asia', 'Air India', 'GoAir', 'IndiGo', 'Jet Airways',\n",
       "       'Jet Airways Business', 'Multiple carriers',\n",
       "       'Multiple carriers Premium economy', 'SpiceJet', 'Trujet', 'Vistara',\n",
       "       'Vistara Premium economy', 'Banglore', 'Chennai', 'Delhi', 'Kolkata',\n",
       "       'Mumbai', 'Banglore', 'Cochin', 'Delhi', 'Hyderabad', 'Kolkata',\n",
       "       'New Delhi'],\n",
       "      dtype='object')"
      ]
     },
     "execution_count": 199,
     "metadata": {},
     "output_type": "execute_result"
    }
   ],
   "source": [
    "df.columns"
   ]
  },
  {
   "cell_type": "code",
   "execution_count": 220,
   "id": "cda14517",
   "metadata": {},
   "outputs": [
    {
     "data": {
      "text/plain": [
       "<matplotlib.axes._subplots.AxesSubplot at 0x1b5c0004580>"
      ]
     },
     "execution_count": 220,
     "metadata": {},
     "output_type": "execute_result"
    },
    {
     "data": {
      "image/png": "[encoded data removed]",
      "text/plain": [
       "<Figure size 720x720 with 2 Axes>"
      ]
     },
     "metadata": {
      "needs_background": "light"
     },
     "output_type": "display_data"
    }
   ],
   "source": [
    "plt.figure(figsize=[10,10])\n",
    "\n",
    "sns.heatmap(df.corr(),annot=True)"
   ]
  },
  {
   "cell_type": "code",
   "execution_count": 221,
   "id": "c54a5dbb",
   "metadata": {},
   "outputs": [
    {
     "data": {
      "text/html": [
       "<div>\n",
       "<style scoped>\n",
       "    .dataframe tbody tr th:only-of-type {\n",
       "        vertical-align: middle;\n",
       "    }\n",
       "\n",
       "    .dataframe tbody tr th {\n",
       "        vertical-align: top;\n",
       "    }\n",
       "\n",
       "    .dataframe thead th {\n",
       "        text-align: right;\n",
       "    }\n",
       "</style>\n",
       "<table border=\"1\" class=\"dataframe\">\n",
       "  <thead>\n",
       "    <tr style=\"text-align: right;\">\n",
       "      <th></th>\n",
       "      <th>Total_Stops</th>\n",
       "      <th>Price</th>\n",
       "      <th>Jounrney_date</th>\n",
       "      <th>Jounrney_month</th>\n",
       "      <th>Dep_hour</th>\n",
       "      <th>Dep_min</th>\n",
       "      <th>Arr_hour</th>\n",
       "      <th>Arr_min</th>\n",
       "      <th>Duration_minute</th>\n",
       "      <th>Air Asia</th>\n",
       "      <th>...</th>\n",
       "      <th>Chennai</th>\n",
       "      <th>Delhi</th>\n",
       "      <th>Kolkata</th>\n",
       "      <th>Mumbai</th>\n",
       "      <th>Banglore</th>\n",
       "      <th>Cochin</th>\n",
       "      <th>Delhi</th>\n",
       "      <th>Hyderabad</th>\n",
       "      <th>Kolkata</th>\n",
       "      <th>New Delhi</th>\n",
       "    </tr>\n",
       "  </thead>\n",
       "  <tbody>\n",
       "    <tr>\n",
       "      <th>Total_Stops</th>\n",
       "      <td>1.000000</td>\n",
       "      <td>-0.488720</td>\n",
       "      <td>0.024249</td>\n",
       "      <td>-0.025076</td>\n",
       "      <td>0.029152</td>\n",
       "      <td>0.035632</td>\n",
       "      <td>-0.084465</td>\n",
       "      <td>0.140079</td>\n",
       "      <td>0.144195</td>\n",
       "      <td>0.059623</td>\n",
       "      <td>...</td>\n",
       "      <td>0.225357</td>\n",
       "      <td>-0.409211</td>\n",
       "      <td>-0.097243</td>\n",
       "      <td>0.266647</td>\n",
       "      <td>-0.097243</td>\n",
       "      <td>-0.409211</td>\n",
       "      <td>0.439562</td>\n",
       "      <td>0.266647</td>\n",
       "      <td>0.225357</td>\n",
       "      <td>-0.015267</td>\n",
       "    </tr>\n",
       "    <tr>\n",
       "      <th>Price</th>\n",
       "      <td>-0.488720</td>\n",
       "      <td>1.000000</td>\n",
       "      <td>-0.153749</td>\n",
       "      <td>-0.103659</td>\n",
       "      <td>0.006823</td>\n",
       "      <td>-0.024549</td>\n",
       "      <td>0.024200</td>\n",
       "      <td>-0.086126</td>\n",
       "      <td>-0.124876</td>\n",
       "      <td>-0.133043</td>\n",
       "      <td>...</td>\n",
       "      <td>-0.179216</td>\n",
       "      <td>0.270634</td>\n",
       "      <td>0.009391</td>\n",
       "      <td>-0.230746</td>\n",
       "      <td>0.009391</td>\n",
       "      <td>0.270634</td>\n",
       "      <td>-0.313404</td>\n",
       "      <td>-0.230746</td>\n",
       "      <td>-0.179216</td>\n",
       "      <td>0.189797</td>\n",
       "    </tr>\n",
       "    <tr>\n",
       "      <th>Jounrney_date</th>\n",
       "      <td>0.024249</td>\n",
       "      <td>-0.153749</td>\n",
       "      <td>1.000000</td>\n",
       "      <td>-0.038347</td>\n",
       "      <td>0.002149</td>\n",
       "      <td>-0.008090</td>\n",
       "      <td>-0.003204</td>\n",
       "      <td>-0.017540</td>\n",
       "      <td>-0.008940</td>\n",
       "      <td>0.008917</td>\n",
       "      <td>...</td>\n",
       "      <td>0.006601</td>\n",
       "      <td>0.100153</td>\n",
       "      <td>-0.060590</td>\n",
       "      <td>-0.014043</td>\n",
       "      <td>-0.060590</td>\n",
       "      <td>0.100153</td>\n",
       "      <td>0.002613</td>\n",
       "      <td>-0.014043</td>\n",
       "      <td>0.006601</td>\n",
       "      <td>-0.075271</td>\n",
       "    </tr>\n",
       "    <tr>\n",
       "      <th>Jounrney_month</th>\n",
       "      <td>-0.025076</td>\n",
       "      <td>-0.103659</td>\n",
       "      <td>-0.038347</td>\n",
       "      <td>1.000000</td>\n",
       "      <td>0.039138</td>\n",
       "      <td>-0.059313</td>\n",
       "      <td>-0.003946</td>\n",
       "      <td>-0.100614</td>\n",
       "      <td>-0.040844</td>\n",
       "      <td>0.005656</td>\n",
       "      <td>...</td>\n",
       "      <td>0.005655</td>\n",
       "      <td>0.139204</td>\n",
       "      <td>0.087193</td>\n",
       "      <td>-0.039346</td>\n",
       "      <td>0.087193</td>\n",
       "      <td>0.139204</td>\n",
       "      <td>0.090499</td>\n",
       "      <td>-0.039346</td>\n",
       "      <td>0.005655</td>\n",
       "      <td>-0.453682</td>\n",
       "    </tr>\n",
       "    <tr>\n",
       "      <th>Dep_hour</th>\n",
       "      <td>0.029152</td>\n",
       "      <td>0.006823</td>\n",
       "      <td>0.002149</td>\n",
       "      <td>0.039138</td>\n",
       "      <td>1.000000</td>\n",
       "      <td>-0.024683</td>\n",
       "      <td>0.005213</td>\n",
       "      <td>0.067889</td>\n",
       "      <td>-0.023744</td>\n",
       "      <td>0.045953</td>\n",
       "      <td>...</td>\n",
       "      <td>-0.014854</td>\n",
       "      <td>-0.118741</td>\n",
       "      <td>0.155450</td>\n",
       "      <td>-0.017303</td>\n",
       "      <td>0.155450</td>\n",
       "      <td>-0.118741</td>\n",
       "      <td>0.009454</td>\n",
       "      <td>-0.017303</td>\n",
       "      <td>-0.014854</td>\n",
       "      <td>-0.022151</td>\n",
       "    </tr>\n",
       "    <tr>\n",
       "      <th>Dep_min</th>\n",
       "      <td>0.035632</td>\n",
       "      <td>-0.024549</td>\n",
       "      <td>-0.008090</td>\n",
       "      <td>-0.059313</td>\n",
       "      <td>-0.024683</td>\n",
       "      <td>1.000000</td>\n",
       "      <td>0.043003</td>\n",
       "      <td>-0.017510</td>\n",
       "      <td>0.092531</td>\n",
       "      <td>0.158258</td>\n",
       "      <td>...</td>\n",
       "      <td>0.067148</td>\n",
       "      <td>-0.085728</td>\n",
       "      <td>-0.024149</td>\n",
       "      <td>0.037750</td>\n",
       "      <td>-0.024149</td>\n",
       "      <td>-0.085728</td>\n",
       "      <td>0.003256</td>\n",
       "      <td>0.037750</td>\n",
       "      <td>0.067148</td>\n",
       "      <td>0.107190</td>\n",
       "    </tr>\n",
       "    <tr>\n",
       "      <th>Arr_hour</th>\n",
       "      <td>-0.084465</td>\n",
       "      <td>0.024200</td>\n",
       "      <td>-0.003204</td>\n",
       "      <td>-0.003946</td>\n",
       "      <td>0.005213</td>\n",
       "      <td>0.043003</td>\n",
       "      <td>1.000000</td>\n",
       "      <td>-0.154325</td>\n",
       "      <td>-0.118282</td>\n",
       "      <td>-0.034980</td>\n",
       "      <td>...</td>\n",
       "      <td>-0.014781</td>\n",
       "      <td>-0.006881</td>\n",
       "      <td>0.054742</td>\n",
       "      <td>-0.033492</td>\n",
       "      <td>0.054742</td>\n",
       "      <td>-0.006881</td>\n",
       "      <td>-0.030839</td>\n",
       "      <td>-0.033492</td>\n",
       "      <td>-0.014781</td>\n",
       "      <td>0.000389</td>\n",
       "    </tr>\n",
       "    <tr>\n",
       "      <th>Arr_min</th>\n",
       "      <td>0.140079</td>\n",
       "      <td>-0.086126</td>\n",
       "      <td>-0.017540</td>\n",
       "      <td>-0.100614</td>\n",
       "      <td>0.067889</td>\n",
       "      <td>-0.017510</td>\n",
       "      <td>-0.154325</td>\n",
       "      <td>1.000000</td>\n",
       "      <td>0.151548</td>\n",
       "      <td>0.078253</td>\n",
       "      <td>...</td>\n",
       "      <td>-0.030504</td>\n",
       "      <td>-0.209835</td>\n",
       "      <td>0.118544</td>\n",
       "      <td>0.081183</td>\n",
       "      <td>0.118544</td>\n",
       "      <td>-0.209835</td>\n",
       "      <td>0.095232</td>\n",
       "      <td>0.081183</td>\n",
       "      <td>-0.030504</td>\n",
       "      <td>0.021254</td>\n",
       "    </tr>\n",
       "    <tr>\n",
       "      <th>Duration_minute</th>\n",
       "      <td>0.144195</td>\n",
       "      <td>-0.124876</td>\n",
       "      <td>-0.008940</td>\n",
       "      <td>-0.040844</td>\n",
       "      <td>-0.023744</td>\n",
       "      <td>0.092531</td>\n",
       "      <td>-0.118282</td>\n",
       "      <td>0.151548</td>\n",
       "      <td>1.000000</td>\n",
       "      <td>0.085807</td>\n",
       "      <td>...</td>\n",
       "      <td>-0.098824</td>\n",
       "      <td>-0.154054</td>\n",
       "      <td>0.013750</td>\n",
       "      <td>-0.018877</td>\n",
       "      <td>0.013750</td>\n",
       "      <td>-0.154054</td>\n",
       "      <td>0.218195</td>\n",
       "      <td>-0.018877</td>\n",
       "      <td>-0.098824</td>\n",
       "      <td>0.079859</td>\n",
       "    </tr>\n",
       "    <tr>\n",
       "      <th>Air Asia</th>\n",
       "      <td>0.059623</td>\n",
       "      <td>-0.133043</td>\n",
       "      <td>0.008917</td>\n",
       "      <td>0.005656</td>\n",
       "      <td>0.045953</td>\n",
       "      <td>0.158258</td>\n",
       "      <td>-0.034980</td>\n",
       "      <td>0.078253</td>\n",
       "      <td>0.085807</td>\n",
       "      <td>1.000000</td>\n",
       "      <td>...</td>\n",
       "      <td>-0.033746</td>\n",
       "      <td>-0.061696</td>\n",
       "      <td>0.079718</td>\n",
       "      <td>-0.046359</td>\n",
       "      <td>0.079718</td>\n",
       "      <td>-0.061696</td>\n",
       "      <td>0.056547</td>\n",
       "      <td>-0.046359</td>\n",
       "      <td>-0.033746</td>\n",
       "      <td>-0.019169</td>\n",
       "    </tr>\n",
       "    <tr>\n",
       "      <th>Air India</th>\n",
       "      <td>-0.006303</td>\n",
       "      <td>0.050322</td>\n",
       "      <td>-0.032386</td>\n",
       "      <td>-0.046045</td>\n",
       "      <td>-0.012790</td>\n",
       "      <td>-0.046049</td>\n",
       "      <td>0.088722</td>\n",
       "      <td>0.061371</td>\n",
       "      <td>-0.033392</td>\n",
       "      <td>-0.077668</td>\n",
       "      <td>...</td>\n",
       "      <td>-0.051040</td>\n",
       "      <td>0.001011</td>\n",
       "      <td>0.023740</td>\n",
       "      <td>0.022329</td>\n",
       "      <td>0.023740</td>\n",
       "      <td>0.001011</td>\n",
       "      <td>-0.068310</td>\n",
       "      <td>0.022329</td>\n",
       "      <td>-0.051040</td>\n",
       "      <td>0.053150</td>\n",
       "    </tr>\n",
       "    <tr>\n",
       "      <th>GoAir</th>\n",
       "      <td>0.015173</td>\n",
       "      <td>-0.095145</td>\n",
       "      <td>-0.003129</td>\n",
       "      <td>-0.004491</td>\n",
       "      <td>-0.016379</td>\n",
       "      <td>0.076782</td>\n",
       "      <td>0.018537</td>\n",
       "      <td>0.096833</td>\n",
       "      <td>0.067211</td>\n",
       "      <td>-0.023864</td>\n",
       "      <td>...</td>\n",
       "      <td>-0.026159</td>\n",
       "      <td>-0.009035</td>\n",
       "      <td>-0.042929</td>\n",
       "      <td>-0.035937</td>\n",
       "      <td>-0.042929</td>\n",
       "      <td>-0.009035</td>\n",
       "      <td>0.099859</td>\n",
       "      <td>-0.035937</td>\n",
       "      <td>-0.026159</td>\n",
       "      <td>0.017569</td>\n",
       "    </tr>\n",
       "    <tr>\n",
       "      <th>IndiGo</th>\n",
       "      <td>0.223898</td>\n",
       "      <td>-0.361054</td>\n",
       "      <td>0.007257</td>\n",
       "      <td>-0.048493</td>\n",
       "      <td>-0.023415</td>\n",
       "      <td>-0.014642</td>\n",
       "      <td>-0.071456</td>\n",
       "      <td>0.035098</td>\n",
       "      <td>0.119805</td>\n",
       "      <td>-0.085588</td>\n",
       "      <td>...</td>\n",
       "      <td>0.141904</td>\n",
       "      <td>-0.080121</td>\n",
       "      <td>-0.057258</td>\n",
       "      <td>0.059675</td>\n",
       "      <td>-0.057258</td>\n",
       "      <td>-0.080121</td>\n",
       "      <td>0.090338</td>\n",
       "      <td>0.059675</td>\n",
       "      <td>0.141904</td>\n",
       "      <td>-0.018640</td>\n",
       "    </tr>\n",
       "    <tr>\n",
       "      <th>Jet Airways</th>\n",
       "      <td>-0.220880</td>\n",
       "      <td>0.416182</td>\n",
       "      <td>-0.017342</td>\n",
       "      <td>0.059755</td>\n",
       "      <td>0.113916</td>\n",
       "      <td>0.024573</td>\n",
       "      <td>-0.027321</td>\n",
       "      <td>-0.057742</td>\n",
       "      <td>-0.084066</td>\n",
       "      <td>-0.131696</td>\n",
       "      <td>...</td>\n",
       "      <td>-0.144359</td>\n",
       "      <td>-0.019028</td>\n",
       "      <td>0.097390</td>\n",
       "      <td>-0.025401</td>\n",
       "      <td>0.097390</td>\n",
       "      <td>-0.019028</td>\n",
       "      <td>-0.051814</td>\n",
       "      <td>-0.025401</td>\n",
       "      <td>-0.144359</td>\n",
       "      <td>0.056762</td>\n",
       "    </tr>\n",
       "    <tr>\n",
       "      <th>Jet Airways Business</th>\n",
       "      <td>-0.008203</td>\n",
       "      <td>0.253308</td>\n",
       "      <td>-0.031714</td>\n",
       "      <td>-0.034787</td>\n",
       "      <td>-0.007525</td>\n",
       "      <td>0.009172</td>\n",
       "      <td>-0.014455</td>\n",
       "      <td>0.005231</td>\n",
       "      <td>-0.002323</td>\n",
       "      <td>-0.004160</td>\n",
       "      <td>...</td>\n",
       "      <td>-0.004560</td>\n",
       "      <td>-0.004377</td>\n",
       "      <td>-0.014374</td>\n",
       "      <td>-0.006264</td>\n",
       "      <td>-0.014374</td>\n",
       "      <td>-0.004377</td>\n",
       "      <td>-0.008690</td>\n",
       "      <td>-0.006264</td>\n",
       "      <td>-0.004560</td>\n",
       "      <td>0.048674</td>\n",
       "    </tr>\n",
       "    <tr>\n",
       "      <th>Multiple carriers</th>\n",
       "      <td>-0.232109</td>\n",
       "      <td>0.139815</td>\n",
       "      <td>0.042146</td>\n",
       "      <td>0.053694</td>\n",
       "      <td>-0.150009</td>\n",
       "      <td>-0.109330</td>\n",
       "      <td>0.067960</td>\n",
       "      <td>-0.167478</td>\n",
       "      <td>-0.118770</td>\n",
       "      <td>-0.062305</td>\n",
       "      <td>...</td>\n",
       "      <td>-0.068295</td>\n",
       "      <td>0.413385</td>\n",
       "      <td>-0.215297</td>\n",
       "      <td>-0.093823</td>\n",
       "      <td>-0.215297</td>\n",
       "      <td>0.413385</td>\n",
       "      <td>-0.130154</td>\n",
       "      <td>-0.093823</td>\n",
       "      <td>-0.068295</td>\n",
       "      <td>-0.109793</td>\n",
       "    </tr>\n",
       "    <tr>\n",
       "      <th>Multiple carriers Premium economy</th>\n",
       "      <td>-0.022236</td>\n",
       "      <td>0.017652</td>\n",
       "      <td>0.030838</td>\n",
       "      <td>-0.051222</td>\n",
       "      <td>-0.028674</td>\n",
       "      <td>-0.004620</td>\n",
       "      <td>0.013494</td>\n",
       "      <td>-0.001788</td>\n",
       "      <td>-0.006853</td>\n",
       "      <td>-0.006125</td>\n",
       "      <td>...</td>\n",
       "      <td>-0.006714</td>\n",
       "      <td>0.040639</td>\n",
       "      <td>-0.021165</td>\n",
       "      <td>-0.009223</td>\n",
       "      <td>-0.021165</td>\n",
       "      <td>0.040639</td>\n",
       "      <td>-0.012795</td>\n",
       "      <td>-0.009223</td>\n",
       "      <td>-0.006714</td>\n",
       "      <td>-0.010793</td>\n",
       "    </tr>\n",
       "    <tr>\n",
       "      <th>SpiceJet</th>\n",
       "      <td>0.255740</td>\n",
       "      <td>-0.296555</td>\n",
       "      <td>0.022140</td>\n",
       "      <td>-0.011971</td>\n",
       "      <td>-0.010462</td>\n",
       "      <td>0.092690</td>\n",
       "      <td>-0.090039</td>\n",
       "      <td>0.012527</td>\n",
       "      <td>0.041313</td>\n",
       "      <td>-0.050530</td>\n",
       "      <td>...</td>\n",
       "      <td>0.187586</td>\n",
       "      <td>-0.185412</td>\n",
       "      <td>0.063630</td>\n",
       "      <td>0.097817</td>\n",
       "      <td>0.063630</td>\n",
       "      <td>-0.185412</td>\n",
       "      <td>0.043714</td>\n",
       "      <td>0.097817</td>\n",
       "      <td>0.187586</td>\n",
       "      <td>-0.034153</td>\n",
       "    </tr>\n",
       "    <tr>\n",
       "      <th>Trujet</th>\n",
       "      <td>-0.007812</td>\n",
       "      <td>-0.010380</td>\n",
       "      <td>-0.008570</td>\n",
       "      <td>-0.014198</td>\n",
       "      <td>0.000856</td>\n",
       "      <td>-0.010007</td>\n",
       "      <td>0.003740</td>\n",
       "      <td>-0.002750</td>\n",
       "      <td>-0.007610</td>\n",
       "      <td>-0.001698</td>\n",
       "      <td>...</td>\n",
       "      <td>-0.001861</td>\n",
       "      <td>-0.008312</td>\n",
       "      <td>-0.005867</td>\n",
       "      <td>0.036623</td>\n",
       "      <td>-0.005867</td>\n",
       "      <td>-0.008312</td>\n",
       "      <td>-0.003547</td>\n",
       "      <td>0.036623</td>\n",
       "      <td>-0.001861</td>\n",
       "      <td>-0.002992</td>\n",
       "    </tr>\n",
       "    <tr>\n",
       "      <th>Vistara</th>\n",
       "      <td>0.066736</td>\n",
       "      <td>-0.060643</td>\n",
       "      <td>-0.013180</td>\n",
       "      <td>-0.017247</td>\n",
       "      <td>0.023897</td>\n",
       "      <td>-0.077880</td>\n",
       "      <td>0.068853</td>\n",
       "      <td>0.069411</td>\n",
       "      <td>0.041947</td>\n",
       "      <td>-0.038019</td>\n",
       "      <td>...</td>\n",
       "      <td>0.063205</td>\n",
       "      <td>-0.144946</td>\n",
       "      <td>0.055352</td>\n",
       "      <td>-0.015125</td>\n",
       "      <td>0.055352</td>\n",
       "      <td>-0.144946</td>\n",
       "      <td>0.103977</td>\n",
       "      <td>-0.015125</td>\n",
       "      <td>0.063205</td>\n",
       "      <td>0.019561</td>\n",
       "    </tr>\n",
       "    <tr>\n",
       "      <th>Vistara Premium economy</th>\n",
       "      <td>0.023586</td>\n",
       "      <td>-0.000453</td>\n",
       "      <td>-0.020116</td>\n",
       "      <td>-0.019796</td>\n",
       "      <td>-0.003376</td>\n",
       "      <td>-0.011379</td>\n",
       "      <td>0.000777</td>\n",
       "      <td>0.000313</td>\n",
       "      <td>0.004952</td>\n",
       "      <td>-0.002941</td>\n",
       "      <td>...</td>\n",
       "      <td>0.026901</td>\n",
       "      <td>-0.014398</td>\n",
       "      <td>-0.010163</td>\n",
       "      <td>-0.004429</td>\n",
       "      <td>-0.010163</td>\n",
       "      <td>-0.014398</td>\n",
       "      <td>0.011148</td>\n",
       "      <td>-0.004429</td>\n",
       "      <td>0.026901</td>\n",
       "      <td>0.014615</td>\n",
       "    </tr>\n",
       "    <tr>\n",
       "      <th>Banglore</th>\n",
       "      <td>0.340726</td>\n",
       "      <td>-0.118020</td>\n",
       "      <td>-0.050464</td>\n",
       "      <td>-0.244410</td>\n",
       "      <td>-0.007908</td>\n",
       "      <td>0.077442</td>\n",
       "      <td>-0.024381</td>\n",
       "      <td>0.090968</td>\n",
       "      <td>0.230181</td>\n",
       "      <td>0.031820</td>\n",
       "      <td>...</td>\n",
       "      <td>-0.097872</td>\n",
       "      <td>-0.437126</td>\n",
       "      <td>-0.308536</td>\n",
       "      <td>-0.134456</td>\n",
       "      <td>-0.308536</td>\n",
       "      <td>-0.437126</td>\n",
       "      <td>0.720273</td>\n",
       "      <td>-0.134456</td>\n",
       "      <td>-0.097872</td>\n",
       "      <td>0.607594</td>\n",
       "    </tr>\n",
       "    <tr>\n",
       "      <th>Chennai</th>\n",
       "      <td>0.225357</td>\n",
       "      <td>-0.179216</td>\n",
       "      <td>0.006601</td>\n",
       "      <td>0.005655</td>\n",
       "      <td>-0.014854</td>\n",
       "      <td>0.067148</td>\n",
       "      <td>-0.014781</td>\n",
       "      <td>-0.030504</td>\n",
       "      <td>-0.098824</td>\n",
       "      <td>-0.033746</td>\n",
       "      <td>...</td>\n",
       "      <td>1.000000</td>\n",
       "      <td>-0.165210</td>\n",
       "      <td>-0.116610</td>\n",
       "      <td>-0.050817</td>\n",
       "      <td>-0.116610</td>\n",
       "      <td>-0.165210</td>\n",
       "      <td>-0.070495</td>\n",
       "      <td>-0.050817</td>\n",
       "      <td>1.000000</td>\n",
       "      <td>-0.059466</td>\n",
       "    </tr>\n",
       "    <tr>\n",
       "      <th>Delhi</th>\n",
       "      <td>-0.409211</td>\n",
       "      <td>0.270634</td>\n",
       "      <td>0.100153</td>\n",
       "      <td>0.139204</td>\n",
       "      <td>-0.118741</td>\n",
       "      <td>-0.085728</td>\n",
       "      <td>-0.006881</td>\n",
       "      <td>-0.209835</td>\n",
       "      <td>-0.154054</td>\n",
       "      <td>-0.061696</td>\n",
       "      <td>...</td>\n",
       "      <td>-0.165210</td>\n",
       "      <td>1.000000</td>\n",
       "      <td>-0.520815</td>\n",
       "      <td>-0.226964</td>\n",
       "      <td>-0.520815</td>\n",
       "      <td>1.000000</td>\n",
       "      <td>-0.314851</td>\n",
       "      <td>-0.226964</td>\n",
       "      <td>-0.165210</td>\n",
       "      <td>-0.265595</td>\n",
       "    </tr>\n",
       "    <tr>\n",
       "      <th>Kolkata</th>\n",
       "      <td>-0.097243</td>\n",
       "      <td>0.009391</td>\n",
       "      <td>-0.060590</td>\n",
       "      <td>0.087193</td>\n",
       "      <td>0.155450</td>\n",
       "      <td>-0.024149</td>\n",
       "      <td>0.054742</td>\n",
       "      <td>0.118544</td>\n",
       "      <td>0.013750</td>\n",
       "      <td>0.079718</td>\n",
       "      <td>...</td>\n",
       "      <td>-0.116610</td>\n",
       "      <td>-0.520815</td>\n",
       "      <td>1.000000</td>\n",
       "      <td>-0.160197</td>\n",
       "      <td>1.000000</td>\n",
       "      <td>-0.520815</td>\n",
       "      <td>-0.222230</td>\n",
       "      <td>-0.160197</td>\n",
       "      <td>-0.116610</td>\n",
       "      <td>-0.187464</td>\n",
       "    </tr>\n",
       "    <tr>\n",
       "      <th>Mumbai</th>\n",
       "      <td>0.266647</td>\n",
       "      <td>-0.230746</td>\n",
       "      <td>-0.014043</td>\n",
       "      <td>-0.039346</td>\n",
       "      <td>-0.017303</td>\n",
       "      <td>0.037750</td>\n",
       "      <td>-0.033492</td>\n",
       "      <td>0.081183</td>\n",
       "      <td>-0.018877</td>\n",
       "      <td>-0.046359</td>\n",
       "      <td>...</td>\n",
       "      <td>-0.050817</td>\n",
       "      <td>-0.226964</td>\n",
       "      <td>-0.160197</td>\n",
       "      <td>1.000000</td>\n",
       "      <td>-0.160197</td>\n",
       "      <td>-0.226964</td>\n",
       "      <td>-0.096845</td>\n",
       "      <td>1.000000</td>\n",
       "      <td>-0.050817</td>\n",
       "      <td>-0.081694</td>\n",
       "    </tr>\n",
       "    <tr>\n",
       "      <th>Banglore</th>\n",
       "      <td>-0.097243</td>\n",
       "      <td>0.009391</td>\n",
       "      <td>-0.060590</td>\n",
       "      <td>0.087193</td>\n",
       "      <td>0.155450</td>\n",
       "      <td>-0.024149</td>\n",
       "      <td>0.054742</td>\n",
       "      <td>0.118544</td>\n",
       "      <td>0.013750</td>\n",
       "      <td>0.079718</td>\n",
       "      <td>...</td>\n",
       "      <td>-0.116610</td>\n",
       "      <td>-0.520815</td>\n",
       "      <td>1.000000</td>\n",
       "      <td>-0.160197</td>\n",
       "      <td>1.000000</td>\n",
       "      <td>-0.520815</td>\n",
       "      <td>-0.222230</td>\n",
       "      <td>-0.160197</td>\n",
       "      <td>-0.116610</td>\n",
       "      <td>-0.187464</td>\n",
       "    </tr>\n",
       "    <tr>\n",
       "      <th>Cochin</th>\n",
       "      <td>-0.409211</td>\n",
       "      <td>0.270634</td>\n",
       "      <td>0.100153</td>\n",
       "      <td>0.139204</td>\n",
       "      <td>-0.118741</td>\n",
       "      <td>-0.085728</td>\n",
       "      <td>-0.006881</td>\n",
       "      <td>-0.209835</td>\n",
       "      <td>-0.154054</td>\n",
       "      <td>-0.061696</td>\n",
       "      <td>...</td>\n",
       "      <td>-0.165210</td>\n",
       "      <td>1.000000</td>\n",
       "      <td>-0.520815</td>\n",
       "      <td>-0.226964</td>\n",
       "      <td>-0.520815</td>\n",
       "      <td>1.000000</td>\n",
       "      <td>-0.314851</td>\n",
       "      <td>-0.226964</td>\n",
       "      <td>-0.165210</td>\n",
       "      <td>-0.265595</td>\n",
       "    </tr>\n",
       "    <tr>\n",
       "      <th>Delhi</th>\n",
       "      <td>0.439562</td>\n",
       "      <td>-0.313404</td>\n",
       "      <td>0.002613</td>\n",
       "      <td>0.090499</td>\n",
       "      <td>0.009454</td>\n",
       "      <td>0.003256</td>\n",
       "      <td>-0.030839</td>\n",
       "      <td>0.095232</td>\n",
       "      <td>0.218195</td>\n",
       "      <td>0.056547</td>\n",
       "      <td>...</td>\n",
       "      <td>-0.070495</td>\n",
       "      <td>-0.314851</td>\n",
       "      <td>-0.222230</td>\n",
       "      <td>-0.096845</td>\n",
       "      <td>-0.222230</td>\n",
       "      <td>-0.314851</td>\n",
       "      <td>1.000000</td>\n",
       "      <td>-0.096845</td>\n",
       "      <td>-0.070495</td>\n",
       "      <td>-0.113329</td>\n",
       "    </tr>\n",
       "    <tr>\n",
       "      <th>Hyderabad</th>\n",
       "      <td>0.266647</td>\n",
       "      <td>-0.230746</td>\n",
       "      <td>-0.014043</td>\n",
       "      <td>-0.039346</td>\n",
       "      <td>-0.017303</td>\n",
       "      <td>0.037750</td>\n",
       "      <td>-0.033492</td>\n",
       "      <td>0.081183</td>\n",
       "      <td>-0.018877</td>\n",
       "      <td>-0.046359</td>\n",
       "      <td>...</td>\n",
       "      <td>-0.050817</td>\n",
       "      <td>-0.226964</td>\n",
       "      <td>-0.160197</td>\n",
       "      <td>1.000000</td>\n",
       "      <td>-0.160197</td>\n",
       "      <td>-0.226964</td>\n",
       "      <td>-0.096845</td>\n",
       "      <td>1.000000</td>\n",
       "      <td>-0.050817</td>\n",
       "      <td>-0.081694</td>\n",
       "    </tr>\n",
       "    <tr>\n",
       "      <th>Kolkata</th>\n",
       "      <td>0.225357</td>\n",
       "      <td>-0.179216</td>\n",
       "      <td>0.006601</td>\n",
       "      <td>0.005655</td>\n",
       "      <td>-0.014854</td>\n",
       "      <td>0.067148</td>\n",
       "      <td>-0.014781</td>\n",
       "      <td>-0.030504</td>\n",
       "      <td>-0.098824</td>\n",
       "      <td>-0.033746</td>\n",
       "      <td>...</td>\n",
       "      <td>1.000000</td>\n",
       "      <td>-0.165210</td>\n",
       "      <td>-0.116610</td>\n",
       "      <td>-0.050817</td>\n",
       "      <td>-0.116610</td>\n",
       "      <td>-0.165210</td>\n",
       "      <td>-0.070495</td>\n",
       "      <td>-0.050817</td>\n",
       "      <td>1.000000</td>\n",
       "      <td>-0.059466</td>\n",
       "    </tr>\n",
       "    <tr>\n",
       "      <th>New Delhi</th>\n",
       "      <td>-0.015267</td>\n",
       "      <td>0.189797</td>\n",
       "      <td>-0.075271</td>\n",
       "      <td>-0.453682</td>\n",
       "      <td>-0.022151</td>\n",
       "      <td>0.107190</td>\n",
       "      <td>0.000389</td>\n",
       "      <td>0.021254</td>\n",
       "      <td>0.079859</td>\n",
       "      <td>-0.019169</td>\n",
       "      <td>...</td>\n",
       "      <td>-0.059466</td>\n",
       "      <td>-0.265595</td>\n",
       "      <td>-0.187464</td>\n",
       "      <td>-0.081694</td>\n",
       "      <td>-0.187464</td>\n",
       "      <td>-0.265595</td>\n",
       "      <td>-0.113329</td>\n",
       "      <td>-0.081694</td>\n",
       "      <td>-0.059466</td>\n",
       "      <td>1.000000</td>\n",
       "    </tr>\n",
       "  </tbody>\n",
       "</table>\n",
       "<p>32 rows × 32 columns</p>\n",
       "</div>"
      ],
      "text/plain": [
       "                                   Total_Stops     Price  Jounrney_date  \\\n",
       "Total_Stops                           1.000000 -0.488720       0.024249   \n",
       "Price                                -0.488720  1.000000      -0.153749   \n",
       "Jounrney_date                         0.024249 -0.153749       1.000000   \n",
       "Jounrney_month                       -0.025076 -0.103659      -0.038347   \n",
       "Dep_hour                              0.029152  0.006823       0.002149   \n",
       "Dep_min                               0.035632 -0.024549      -0.008090   \n",
       "Arr_hour                             -0.084465  0.024200      -0.003204   \n",
       "Arr_min                               0.140079 -0.086126      -0.017540   \n",
       "Duration_minute                       0.144195 -0.124876      -0.008940   \n",
       "Air Asia                              0.059623 -0.133043       0.008917   \n",
       "Air India                            -0.006303  0.050322      -0.032386   \n",
       "GoAir                                 0.015173 -0.095145      -0.003129   \n",
       "IndiGo                                0.223898 -0.361054       0.007257   \n",
       "Jet Airways                          -0.220880  0.416182      -0.017342   \n",
       "Jet Airways Business                 -0.008203  0.253308      -0.031714   \n",
       "Multiple carriers                    -0.232109  0.139815       0.042146   \n",
       "Multiple carriers Premium economy    -0.022236  0.017652       0.030838   \n",
       "SpiceJet                              0.255740 -0.296555       0.022140   \n",
       "Trujet                               -0.007812 -0.010380      -0.008570   \n",
       "Vistara                               0.066736 -0.060643      -0.013180   \n",
       "Vistara Premium economy               0.023586 -0.000453      -0.020116   \n",
       "Banglore                              0.340726 -0.118020      -0.050464   \n",
       "Chennai                               0.225357 -0.179216       0.006601   \n",
       "Delhi                                -0.409211  0.270634       0.100153   \n",
       "Kolkata                              -0.097243  0.009391      -0.060590   \n",
       "Mumbai                                0.266647 -0.230746      -0.014043   \n",
       "Banglore                             -0.097243  0.009391      -0.060590   \n",
       "Cochin                               -0.409211  0.270634       0.100153   \n",
       "Delhi                                 0.439562 -0.313404       0.002613   \n",
       "Hyderabad                             0.266647 -0.230746      -0.014043   \n",
       "Kolkata                               0.225357 -0.179216       0.006601   \n",
       "New Delhi                            -0.015267  0.189797      -0.075271   \n",
       "\n",
       "                                   Jounrney_month  Dep_hour   Dep_min  \\\n",
       "Total_Stops                             -0.025076  0.029152  0.035632   \n",
       "Price                                   -0.103659  0.006823 -0.024549   \n",
       "Jounrney_date                           -0.038347  0.002149 -0.008090   \n",
       "Jounrney_month                           1.000000  0.039138 -0.059313   \n",
       "Dep_hour                                 0.039138  1.000000 -0.024683   \n",
       "Dep_min                                 -0.059313 -0.024683  1.000000   \n",
       "Arr_hour                                -0.003946  0.005213  0.043003   \n",
       "Arr_min                                 -0.100614  0.067889 -0.017510   \n",
       "Duration_minute                         -0.040844 -0.023744  0.092531   \n",
       "Air Asia                                 0.005656  0.045953  0.158258   \n",
       "Air India                               -0.046045 -0.012790 -0.046049   \n",
       "GoAir                                   -0.004491 -0.016379  0.076782   \n",
       "IndiGo                                  -0.048493 -0.023415 -0.014642   \n",
       "Jet Airways                              0.059755  0.113916  0.024573   \n",
       "Jet Airways Business                    -0.034787 -0.007525  0.009172   \n",
       "Multiple carriers                        0.053694 -0.150009 -0.109330   \n",
       "Multiple carriers Premium economy       -0.051222 -0.028674 -0.004620   \n",
       "SpiceJet                                -0.011971 -0.010462  0.092690   \n",
       "Trujet                                  -0.014198  0.000856 -0.010007   \n",
       "Vistara                                 -0.017247  0.023897 -0.077880   \n",
       "Vistara Premium economy                 -0.019796 -0.003376 -0.011379   \n",
       "Banglore                                -0.244410 -0.007908  0.077442   \n",
       "Chennai                                  0.005655 -0.014854  0.067148   \n",
       "Delhi                                    0.139204 -0.118741 -0.085728   \n",
       "Kolkata                                  0.087193  0.155450 -0.024149   \n",
       "Mumbai                                  -0.039346 -0.017303  0.037750   \n",
       "Banglore                                 0.087193  0.155450 -0.024149   \n",
       "Cochin                                   0.139204 -0.118741 -0.085728   \n",
       "Delhi                                    0.090499  0.009454  0.003256   \n",
       "Hyderabad                               -0.039346 -0.017303  0.037750   \n",
       "Kolkata                                  0.005655 -0.014854  0.067148   \n",
       "New Delhi                               -0.453682 -0.022151  0.107190   \n",
       "\n",
       "                                   Arr_hour   Arr_min  Duration_minute  \\\n",
       "Total_Stops                       -0.084465  0.140079         0.144195   \n",
       "Price                              0.024200 -0.086126        -0.124876   \n",
       "Jounrney_date                     -0.003204 -0.017540        -0.008940   \n",
       "Jounrney_month                    -0.003946 -0.100614        -0.040844   \n",
       "Dep_hour                           0.005213  0.067889        -0.023744   \n",
       "Dep_min                            0.043003 -0.017510         0.092531   \n",
       "Arr_hour                           1.000000 -0.154325        -0.118282   \n",
       "Arr_min                           -0.154325  1.000000         0.151548   \n",
       "Duration_minute                   -0.118282  0.151548         1.000000   \n",
       "Air Asia                          -0.034980  0.078253         0.085807   \n",
       "Air India                          0.088722  0.061371        -0.033392   \n",
       "GoAir                              0.018537  0.096833         0.067211   \n",
       "IndiGo                            -0.071456  0.035098         0.119805   \n",
       "Jet Airways                       -0.027321 -0.057742        -0.084066   \n",
       "Jet Airways Business              -0.014455  0.005231        -0.002323   \n",
       "Multiple carriers                  0.067960 -0.167478        -0.118770   \n",
       "Multiple carriers Premium economy  0.013494 -0.001788        -0.006853   \n",
       "SpiceJet                          -0.090039  0.012527         0.041313   \n",
       "Trujet                             0.003740 -0.002750        -0.007610   \n",
       "Vistara                            0.068853  0.069411         0.041947   \n",
       "Vistara Premium economy            0.000777  0.000313         0.004952   \n",
       "Banglore                          -0.024381  0.090968         0.230181   \n",
       "Chennai                           -0.014781 -0.030504        -0.098824   \n",
       "Delhi                             -0.006881 -0.209835        -0.154054   \n",
       "Kolkata                            0.054742  0.118544         0.013750   \n",
       "Mumbai                            -0.033492  0.081183        -0.018877   \n",
       "Banglore                           0.054742  0.118544         0.013750   \n",
       "Cochin                            -0.006881 -0.209835        -0.154054   \n",
       "Delhi                             -0.030839  0.095232         0.218195   \n",
       "Hyderabad                         -0.033492  0.081183        -0.018877   \n",
       "Kolkata                           -0.014781 -0.030504        -0.098824   \n",
       "New Delhi                          0.000389  0.021254         0.079859   \n",
       "\n",
       "                                   Air Asia  ...   Chennai     Delhi  \\\n",
       "Total_Stops                        0.059623  ...  0.225357 -0.409211   \n",
       "Price                             -0.133043  ... -0.179216  0.270634   \n",
       "Jounrney_date                      0.008917  ...  0.006601  0.100153   \n",
       "Jounrney_month                     0.005656  ...  0.005655  0.139204   \n",
       "Dep_hour                           0.045953  ... -0.014854 -0.118741   \n",
       "Dep_min                            0.158258  ...  0.067148 -0.085728   \n",
       "Arr_hour                          -0.034980  ... -0.014781 -0.006881   \n",
       "Arr_min                            0.078253  ... -0.030504 -0.209835   \n",
       "Duration_minute                    0.085807  ... -0.098824 -0.154054   \n",
       "Air Asia                           1.000000  ... -0.033746 -0.061696   \n",
       "Air India                         -0.077668  ... -0.051040  0.001011   \n",
       "GoAir                             -0.023864  ... -0.026159 -0.009035   \n",
       "IndiGo                            -0.085588  ...  0.141904 -0.080121   \n",
       "Jet Airways                       -0.131696  ... -0.144359 -0.019028   \n",
       "Jet Airways Business              -0.004160  ... -0.004560 -0.004377   \n",
       "Multiple carriers                 -0.062305  ... -0.068295  0.413385   \n",
       "Multiple carriers Premium economy -0.006125  ... -0.006714  0.040639   \n",
       "SpiceJet                          -0.050530  ...  0.187586 -0.185412   \n",
       "Trujet                            -0.001698  ... -0.001861 -0.008312   \n",
       "Vistara                           -0.038019  ...  0.063205 -0.144946   \n",
       "Vistara Premium economy           -0.002941  ...  0.026901 -0.014398   \n",
       "Banglore                           0.031820  ... -0.097872 -0.437126   \n",
       "Chennai                           -0.033746  ...  1.000000 -0.165210   \n",
       "Delhi                             -0.061696  ... -0.165210  1.000000   \n",
       "Kolkata                            0.079718  ... -0.116610 -0.520815   \n",
       "Mumbai                            -0.046359  ... -0.050817 -0.226964   \n",
       "Banglore                           0.079718  ... -0.116610 -0.520815   \n",
       "Cochin                            -0.061696  ... -0.165210  1.000000   \n",
       "Delhi                              0.056547  ... -0.070495 -0.314851   \n",
       "Hyderabad                         -0.046359  ... -0.050817 -0.226964   \n",
       "Kolkata                           -0.033746  ...  1.000000 -0.165210   \n",
       "New Delhi                         -0.019169  ... -0.059466 -0.265595   \n",
       "\n",
       "                                    Kolkata    Mumbai  Banglore    Cochin  \\\n",
       "Total_Stops                       -0.097243  0.266647 -0.097243 -0.409211   \n",
       "Price                              0.009391 -0.230746  0.009391  0.270634   \n",
       "Jounrney_date                     -0.060590 -0.014043 -0.060590  0.100153   \n",
       "Jounrney_month                     0.087193 -0.039346  0.087193  0.139204   \n",
       "Dep_hour                           0.155450 -0.017303  0.155450 -0.118741   \n",
       "Dep_min                           -0.024149  0.037750 -0.024149 -0.085728   \n",
       "Arr_hour                           0.054742 -0.033492  0.054742 -0.006881   \n",
       "Arr_min                            0.118544  0.081183  0.118544 -0.209835   \n",
       "Duration_minute                    0.013750 -0.018877  0.013750 -0.154054   \n",
       "Air Asia                           0.079718 -0.046359  0.079718 -0.061696   \n",
       "Air India                          0.023740  0.022329  0.023740  0.001011   \n",
       "GoAir                             -0.042929 -0.035937 -0.042929 -0.009035   \n",
       "IndiGo                            -0.057258  0.059675 -0.057258 -0.080121   \n",
       "Jet Airways                        0.097390 -0.025401  0.097390 -0.019028   \n",
       "Jet Airways Business              -0.014374 -0.006264 -0.014374 -0.004377   \n",
       "Multiple carriers                 -0.215297 -0.093823 -0.215297  0.413385   \n",
       "Multiple carriers Premium economy -0.021165 -0.009223 -0.021165  0.040639   \n",
       "SpiceJet                           0.063630  0.097817  0.063630 -0.185412   \n",
       "Trujet                            -0.005867  0.036623 -0.005867 -0.008312   \n",
       "Vistara                            0.055352 -0.015125  0.055352 -0.144946   \n",
       "Vistara Premium economy           -0.010163 -0.004429 -0.010163 -0.014398   \n",
       "Banglore                          -0.308536 -0.134456 -0.308536 -0.437126   \n",
       "Chennai                           -0.116610 -0.050817 -0.116610 -0.165210   \n",
       "Delhi                             -0.520815 -0.226964 -0.520815  1.000000   \n",
       "Kolkata                            1.000000 -0.160197  1.000000 -0.520815   \n",
       "Mumbai                            -0.160197  1.000000 -0.160197 -0.226964   \n",
       "Banglore                           1.000000 -0.160197  1.000000 -0.520815   \n",
       "Cochin                            -0.520815 -0.226964 -0.520815  1.000000   \n",
       "Delhi                             -0.222230 -0.096845 -0.222230 -0.314851   \n",
       "Hyderabad                         -0.160197  1.000000 -0.160197 -0.226964   \n",
       "Kolkata                           -0.116610 -0.050817 -0.116610 -0.165210   \n",
       "New Delhi                         -0.187464 -0.081694 -0.187464 -0.265595   \n",
       "\n",
       "                                      Delhi  Hyderabad   Kolkata  New Delhi  \n",
       "Total_Stops                        0.439562   0.266647  0.225357  -0.015267  \n",
       "Price                             -0.313404  -0.230746 -0.179216   0.189797  \n",
       "Jounrney_date                      0.002613  -0.014043  0.006601  -0.075271  \n",
       "Jounrney_month                     0.090499  -0.039346  0.005655  -0.453682  \n",
       "Dep_hour                           0.009454  -0.017303 -0.014854  -0.022151  \n",
       "Dep_min                            0.003256   0.037750  0.067148   0.107190  \n",
       "Arr_hour                          -0.030839  -0.033492 -0.014781   0.000389  \n",
       "Arr_min                            0.095232   0.081183 -0.030504   0.021254  \n",
       "Duration_minute                    0.218195  -0.018877 -0.098824   0.079859  \n",
       "Air Asia                           0.056547  -0.046359 -0.033746  -0.019169  \n",
       "Air India                         -0.068310   0.022329 -0.051040   0.053150  \n",
       "GoAir                              0.099859  -0.035937 -0.026159   0.017569  \n",
       "IndiGo                             0.090338   0.059675  0.141904  -0.018640  \n",
       "Jet Airways                       -0.051814  -0.025401 -0.144359   0.056762  \n",
       "Jet Airways Business              -0.008690  -0.006264 -0.004560   0.048674  \n",
       "Multiple carriers                 -0.130154  -0.093823 -0.068295  -0.109793  \n",
       "Multiple carriers Premium economy -0.012795  -0.009223 -0.006714  -0.010793  \n",
       "SpiceJet                           0.043714   0.097817  0.187586  -0.034153  \n",
       "Trujet                            -0.003547   0.036623 -0.001861  -0.002992  \n",
       "Vistara                            0.103977  -0.015125  0.063205   0.019561  \n",
       "Vistara Premium economy            0.011148  -0.004429  0.026901   0.014615  \n",
       "Banglore                           0.720273  -0.134456 -0.097872   0.607594  \n",
       "Chennai                           -0.070495  -0.050817  1.000000  -0.059466  \n",
       "Delhi                             -0.314851  -0.226964 -0.165210  -0.265595  \n",
       "Kolkata                           -0.222230  -0.160197 -0.116610  -0.187464  \n",
       "Mumbai                            -0.096845   1.000000 -0.050817  -0.081694  \n",
       "Banglore                          -0.222230  -0.160197 -0.116610  -0.187464  \n",
       "Cochin                            -0.314851  -0.226964 -0.165210  -0.265595  \n",
       "Delhi                              1.000000  -0.096845 -0.070495  -0.113329  \n",
       "Hyderabad                         -0.096845   1.000000 -0.050817  -0.081694  \n",
       "Kolkata                           -0.070495  -0.050817  1.000000  -0.059466  \n",
       "New Delhi                         -0.113329  -0.081694 -0.059466   1.000000  \n",
       "\n",
       "[32 rows x 32 columns]"
      ]
     },
     "execution_count": 221,
     "metadata": {},
     "output_type": "execute_result"
    }
   ],
   "source": [
    "df.corr()"
   ]
  },
  {
   "cell_type": "code",
   "execution_count": 200,
   "id": "5caa62c4",
   "metadata": {},
   "outputs": [],
   "source": [
    "df.dropna(how='any',inplace=True)"
   ]
  },
  {
   "cell_type": "code",
   "execution_count": 201,
   "id": "3f9bb70b",
   "metadata": {},
   "outputs": [
    {
     "data": {
      "text/plain": [
       "((10681, 32), (10681, 1))"
      ]
     },
     "execution_count": 201,
     "metadata": {},
     "output_type": "execute_result"
    }
   ],
   "source": [
    "X.shape,y.shape"
   ]
  },
  {
   "cell_type": "code",
   "execution_count": 206,
   "id": "8eee33d7",
   "metadata": {},
   "outputs": [],
   "source": [
    "X=df.drop(['Price','Duration_hr', 'Duration_minute'],axis=1)\n",
    "y=df[['Price']]"
   ]
  },
  {
   "cell_type": "code",
   "execution_count": 225,
   "id": "9698eff0",
   "metadata": {},
   "outputs": [
    {
     "name": "stderr",
     "output_type": "stream",
     "text": [
      "<ipython-input-225-6bf19a7d5ac5>:2: DataConversionWarning: A column-vector y was passed when a 1d array was expected. Please change the shape of y to (n_samples,), for example using ravel().\n",
      "  selec.fit(X,y)\n"
     ]
    },
    {
     "name": "stdout",
     "output_type": "stream",
     "text": [
      "[2.70897297e-01 1.47299082e-01 5.34372526e-02 4.39027889e-02\n",
      " 3.52923909e-02 4.48082658e-02 3.02166151e-02 6.59934831e-03\n",
      " 9.92597765e-03 3.53982829e-03 3.21585632e-02 1.18793653e-01\n",
      " 6.70750653e-02 1.32412691e-02 7.29188929e-04 1.62134689e-02\n",
      " 2.18098347e-04 4.42798123e-03 9.95511512e-05 5.52101318e-03\n",
      " 5.13199115e-04 1.30975412e-02 6.15225998e-03 4.69448222e-03\n",
      " 6.68531808e-03 1.80070395e-02 7.82490772e-03 4.71987895e-03\n",
      " 5.21134009e-04 3.33875401e-02]\n"
     ]
    }
   ],
   "source": [
    "selec = ExtraTreesRegressor()\n",
    "selec.fit(X,y)\n",
    "print(selec.feature_importances_)"
   ]
  },
  {
   "cell_type": "code",
   "execution_count": 227,
   "id": "94949ca0",
   "metadata": {},
   "outputs": [
    {
     "data": {
      "image/png": "[encoded data removed]",
      "text/plain": [
       "<Figure size 432x288 with 1 Axes>"
      ]
     },
     "metadata": {
      "needs_background": "light"
     },
     "output_type": "display_data"
    }
   ],
   "source": [
    "fea_imp = pd.Series(selec.feature_importances_,index=X.columns)\n",
    "fea_imp.nlargest(20).plot(kind='barh')\n",
    "plt.show()"
   ]
  },
  {
   "cell_type": "code",
   "execution_count": 207,
   "id": "b04b2170",
   "metadata": {},
   "outputs": [],
   "source": [
    "X_train,X_test,y_train,y_test=train_test_split(X,y)"
   ]
  },
  {
   "cell_type": "code",
   "execution_count": 211,
   "id": "89c56fa9",
   "metadata": {},
   "outputs": [
    {
     "data": {
      "text/plain": [
       "0.550092630011235"
      ]
     },
     "execution_count": 211,
     "metadata": {},
     "output_type": "execute_result"
    }
   ],
   "source": [
    "lr=LinearRegression()\n",
    "lr.fit(X_train,y_train)\n",
    "y_pred= lr.predict(X_test)\n",
    "r2_score(y_test,y_pred)"
   ]
  },
  {
   "cell_type": "code",
   "execution_count": 271,
   "id": "b57bf129",
   "metadata": {},
   "outputs": [
    {
     "name": "stderr",
     "output_type": "stream",
     "text": [
      "<ipython-input-271-4d70ef2ddb4d>:2: DataConversionWarning: A column-vector y was passed when a 1d array was expected. Please change the shape of y to (n_samples,), for example using ravel().\n",
      "  rnd.fit(X_train,y_train)\n"
     ]
    },
    {
     "data": {
      "text/plain": [
       "(0.9363168879806177, 0.7835872018592462)"
      ]
     },
     "execution_count": 271,
     "metadata": {},
     "output_type": "execute_result"
    }
   ],
   "source": [
    "rnd=RandomForestRegressor(n_estimators=1000,max_depth=15)\n",
    "rnd.fit(X_train,y_train)\n",
    "y_pred=rnd.predict(X_test)\n",
    "rnd.score(X_train,y_train),rnd.score(X_test,y_test)"
   ]
  },
  {
   "cell_type": "code",
   "execution_count": 273,
   "id": "e7badb30",
   "metadata": {},
   "outputs": [
    {
     "data": {
      "image/png": "[encoded data removed]",
      "text/plain": [
       "<Figure size 432x288 with 1 Axes>"
      ]
     },
     "metadata": {
      "needs_background": "light"
     },
     "output_type": "display_data"
    }
   ],
   "source": [
    "plt.scatter(y_test,y_pred)\n",
    "plt.grid()\n",
    "plt.show()"
   ]
  },
  {
   "cell_type": "code",
   "execution_count": 301,
   "id": "f790b511",
   "metadata": {},
   "outputs": [
    {
     "name": "stdout",
     "output_type": "stream",
     "text": [
      "MAE 1272.1418782058004\n",
      "MSE 4881168.816442351\n",
      "RMSE 2209.33673677019\n"
     ]
    }
   ],
   "source": [
    "print('MAE',metrics.mean_absolute_error(y_test,y_pred))\n",
    "print('MSE',metrics.mean_squared_error(y_test,y_pred))\n",
    "print('RMSE',np.sqrt(metrics.mean_squared_error(y_test,y_pred)))"
   ]
  },
  {
   "cell_type": "code",
   "execution_count": 278,
   "id": "810c2255",
   "metadata": {},
   "outputs": [
    {
     "data": {
      "text/plain": [
       "0.7835872018592462"
      ]
     },
     "execution_count": 278,
     "metadata": {},
     "output_type": "execute_result"
    }
   ],
   "source": [
    "r2_score(y_test,y_pred)"
   ]
  },
  {
   "cell_type": "code",
   "execution_count": null,
   "id": "2d983589",
   "metadata": {},
   "outputs": [],
   "source": []
  },
  {
   "cell_type": "markdown",
   "id": "7eb076a5",
   "metadata": {},
   "source": [
    "## Hyperparameter Tuning"
   ]
  },
  {
   "cell_type": "code",
   "execution_count": 290,
   "id": "8bd07a90",
   "metadata": {},
   "outputs": [],
   "source": [
    "from sklearn.model_selection import RandomizedSearchCV"
   ]
  },
  {
   "cell_type": "code",
   "execution_count": 285,
   "id": "c35fca4d",
   "metadata": {},
   "outputs": [],
   "source": [
    "# no of tree in random forest\n",
    "n_estimators= [int(x) for x in np.linspace(start=100,stop=1200,num=12)]\n",
    "#no of feature to consider\n",
    "max_features=['auto','sqrt']\n",
    "\n",
    "max_depth= [int(x) for x in np.linspace(5,30,num=6)]\n",
    "min_samples_split = [2, 5, 10, 15, 100]\n",
    "min_samples_leaf = [1, 2, 5, 10]\n"
   ]
  },
  {
   "cell_type": "code",
   "execution_count": 286,
   "id": "60066ae3",
   "metadata": {},
   "outputs": [],
   "source": [
    "random= {'n_estimators':n_estimators,\n",
    "        'max_features':max_features,\n",
    "        'max_depth':max_depth,\n",
    "        'min_samples_split':min_samples_split,\n",
    "        'min_samples_leaf':min_samples_leaf}"
   ]
  },
  {
   "cell_type": "code",
   "execution_count": 292,
   "id": "0130e0f0",
   "metadata": {},
   "outputs": [],
   "source": [
    "rf_random = RandomizedSearchCV(estimator = rnd, param_distributions = random,scoring='neg_mean_squared_error', n_iter = 10, cv = 5, verbose=2, random_state=42, n_jobs = 1)\n"
   ]
  },
  {
   "cell_type": "code",
   "execution_count": 293,
   "id": "cfcc3925",
   "metadata": {},
   "outputs": [
    {
     "name": "stdout",
     "output_type": "stream",
     "text": [
      "Fitting 5 folds for each of 10 candidates, totalling 50 fits\n",
      "[CV] n_estimators=900, min_samples_split=5, min_samples_leaf=5, max_features=sqrt, max_depth=10 \n"
     ]
    },
    {
     "name": "stderr",
     "output_type": "stream",
     "text": [
      "[Parallel(n_jobs=1)]: Using backend SequentialBackend with 1 concurrent workers.\n",
      "C:\\Users\\Dwarika\\anaconda3\\lib\\site-packages\\sklearn\\model_selection\\_validation.py:531: DataConversionWarning: A column-vector y was passed when a 1d array was expected. Please change the shape of y to (n_samples,), for example using ravel().\n",
      "  estimator.fit(X_train, y_train, **fit_params)\n"
     ]
    },
    {
     "name": "stdout",
     "output_type": "stream",
     "text": [
      "[CV]  n_estimators=900, min_samples_split=5, min_samples_leaf=5, max_features=sqrt, max_depth=10, total=   5.2s\n",
      "[CV] n_estimators=900, min_samples_split=5, min_samples_leaf=5, max_features=sqrt, max_depth=10 \n"
     ]
    },
    {
     "name": "stderr",
     "output_type": "stream",
     "text": [
      "[Parallel(n_jobs=1)]: Done   1 out of   1 | elapsed:    5.1s remaining:    0.0s\n",
      "C:\\Users\\Dwarika\\anaconda3\\lib\\site-packages\\sklearn\\model_selection\\_validation.py:531: DataConversionWarning: A column-vector y was passed when a 1d array was expected. Please change the shape of y to (n_samples,), for example using ravel().\n",
      "  estimator.fit(X_train, y_train, **fit_params)\n"
     ]
    },
    {
     "name": "stdout",
     "output_type": "stream",
     "text": [
      "[CV]  n_estimators=900, min_samples_split=5, min_samples_leaf=5, max_features=sqrt, max_depth=10, total=   5.0s\n",
      "[CV] n_estimators=900, min_samples_split=5, min_samples_leaf=5, max_features=sqrt, max_depth=10 \n"
     ]
    },
    {
     "name": "stderr",
     "output_type": "stream",
     "text": [
      "C:\\Users\\Dwarika\\anaconda3\\lib\\site-packages\\sklearn\\model_selection\\_validation.py:531: DataConversionWarning: A column-vector y was passed when a 1d array was expected. Please change the shape of y to (n_samples,), for example using ravel().\n",
      "  estimator.fit(X_train, y_train, **fit_params)\n"
     ]
    },
    {
     "name": "stdout",
     "output_type": "stream",
     "text": [
      "[CV]  n_estimators=900, min_samples_split=5, min_samples_leaf=5, max_features=sqrt, max_depth=10, total=   5.7s\n",
      "[CV] n_estimators=900, min_samples_split=5, min_samples_leaf=5, max_features=sqrt, max_depth=10 \n"
     ]
    },
    {
     "name": "stderr",
     "output_type": "stream",
     "text": [
      "C:\\Users\\Dwarika\\anaconda3\\lib\\site-packages\\sklearn\\model_selection\\_validation.py:531: DataConversionWarning: A column-vector y was passed when a 1d array was expected. Please change the shape of y to (n_samples,), for example using ravel().\n",
      "  estimator.fit(X_train, y_train, **fit_params)\n"
     ]
    },
    {
     "name": "stdout",
     "output_type": "stream",
     "text": [
      "[CV]  n_estimators=900, min_samples_split=5, min_samples_leaf=5, max_features=sqrt, max_depth=10, total=   5.8s\n",
      "[CV] n_estimators=900, min_samples_split=5, min_samples_leaf=5, max_features=sqrt, max_depth=10 \n"
     ]
    },
    {
     "name": "stderr",
     "output_type": "stream",
     "text": [
      "C:\\Users\\Dwarika\\anaconda3\\lib\\site-packages\\sklearn\\model_selection\\_validation.py:531: DataConversionWarning: A column-vector y was passed when a 1d array was expected. Please change the shape of y to (n_samples,), for example using ravel().\n",
      "  estimator.fit(X_train, y_train, **fit_params)\n"
     ]
    },
    {
     "name": "stdout",
     "output_type": "stream",
     "text": [
      "[CV]  n_estimators=900, min_samples_split=5, min_samples_leaf=5, max_features=sqrt, max_depth=10, total=   5.4s\n",
      "[CV] n_estimators=1100, min_samples_split=10, min_samples_leaf=2, max_features=sqrt, max_depth=15 \n"
     ]
    },
    {
     "name": "stderr",
     "output_type": "stream",
     "text": [
      "C:\\Users\\Dwarika\\anaconda3\\lib\\site-packages\\sklearn\\model_selection\\_validation.py:531: DataConversionWarning: A column-vector y was passed when a 1d array was expected. Please change the shape of y to (n_samples,), for example using ravel().\n",
      "  estimator.fit(X_train, y_train, **fit_params)\n"
     ]
    },
    {
     "name": "stdout",
     "output_type": "stream",
     "text": [
      "[CV]  n_estimators=1100, min_samples_split=10, min_samples_leaf=2, max_features=sqrt, max_depth=15, total=   8.1s\n",
      "[CV] n_estimators=1100, min_samples_split=10, min_samples_leaf=2, max_features=sqrt, max_depth=15 \n"
     ]
    },
    {
     "name": "stderr",
     "output_type": "stream",
     "text": [
      "C:\\Users\\Dwarika\\anaconda3\\lib\\site-packages\\sklearn\\model_selection\\_validation.py:531: DataConversionWarning: A column-vector y was passed when a 1d array was expected. Please change the shape of y to (n_samples,), for example using ravel().\n",
      "  estimator.fit(X_train, y_train, **fit_params)\n"
     ]
    },
    {
     "name": "stdout",
     "output_type": "stream",
     "text": [
      "[CV]  n_estimators=1100, min_samples_split=10, min_samples_leaf=2, max_features=sqrt, max_depth=15, total=   7.8s\n",
      "[CV] n_estimators=1100, min_samples_split=10, min_samples_leaf=2, max_features=sqrt, max_depth=15 \n"
     ]
    },
    {
     "name": "stderr",
     "output_type": "stream",
     "text": [
      "C:\\Users\\Dwarika\\anaconda3\\lib\\site-packages\\sklearn\\model_selection\\_validation.py:531: DataConversionWarning: A column-vector y was passed when a 1d array was expected. Please change the shape of y to (n_samples,), for example using ravel().\n",
      "  estimator.fit(X_train, y_train, **fit_params)\n"
     ]
    },
    {
     "name": "stdout",
     "output_type": "stream",
     "text": [
      "[CV]  n_estimators=1100, min_samples_split=10, min_samples_leaf=2, max_features=sqrt, max_depth=15, total=   8.3s\n",
      "[CV] n_estimators=1100, min_samples_split=10, min_samples_leaf=2, max_features=sqrt, max_depth=15 \n"
     ]
    },
    {
     "name": "stderr",
     "output_type": "stream",
     "text": [
      "C:\\Users\\Dwarika\\anaconda3\\lib\\site-packages\\sklearn\\model_selection\\_validation.py:531: DataConversionWarning: A column-vector y was passed when a 1d array was expected. Please change the shape of y to (n_samples,), for example using ravel().\n",
      "  estimator.fit(X_train, y_train, **fit_params)\n"
     ]
    },
    {
     "name": "stdout",
     "output_type": "stream",
     "text": [
      "[CV]  n_estimators=1100, min_samples_split=10, min_samples_leaf=2, max_features=sqrt, max_depth=15, total=   8.9s\n",
      "[CV] n_estimators=1100, min_samples_split=10, min_samples_leaf=2, max_features=sqrt, max_depth=15 \n"
     ]
    },
    {
     "name": "stderr",
     "output_type": "stream",
     "text": [
      "C:\\Users\\Dwarika\\anaconda3\\lib\\site-packages\\sklearn\\model_selection\\_validation.py:531: DataConversionWarning: A column-vector y was passed when a 1d array was expected. Please change the shape of y to (n_samples,), for example using ravel().\n",
      "  estimator.fit(X_train, y_train, **fit_params)\n"
     ]
    },
    {
     "name": "stdout",
     "output_type": "stream",
     "text": [
      "[CV]  n_estimators=1100, min_samples_split=10, min_samples_leaf=2, max_features=sqrt, max_depth=15, total=   8.9s\n",
      "[CV] n_estimators=300, min_samples_split=100, min_samples_leaf=5, max_features=auto, max_depth=15 \n"
     ]
    },
    {
     "name": "stderr",
     "output_type": "stream",
     "text": [
      "C:\\Users\\Dwarika\\anaconda3\\lib\\site-packages\\sklearn\\model_selection\\_validation.py:531: DataConversionWarning: A column-vector y was passed when a 1d array was expected. Please change the shape of y to (n_samples,), for example using ravel().\n",
      "  estimator.fit(X_train, y_train, **fit_params)\n"
     ]
    },
    {
     "name": "stdout",
     "output_type": "stream",
     "text": [
      "[CV]  n_estimators=300, min_samples_split=100, min_samples_leaf=5, max_features=auto, max_depth=15, total=   4.6s\n",
      "[CV] n_estimators=300, min_samples_split=100, min_samples_leaf=5, max_features=auto, max_depth=15 \n"
     ]
    },
    {
     "name": "stderr",
     "output_type": "stream",
     "text": [
      "C:\\Users\\Dwarika\\anaconda3\\lib\\site-packages\\sklearn\\model_selection\\_validation.py:531: DataConversionWarning: A column-vector y was passed when a 1d array was expected. Please change the shape of y to (n_samples,), for example using ravel().\n",
      "  estimator.fit(X_train, y_train, **fit_params)\n"
     ]
    },
    {
     "name": "stdout",
     "output_type": "stream",
     "text": [
      "[CV]  n_estimators=300, min_samples_split=100, min_samples_leaf=5, max_features=auto, max_depth=15, total=   4.4s\n",
      "[CV] n_estimators=300, min_samples_split=100, min_samples_leaf=5, max_features=auto, max_depth=15 \n"
     ]
    },
    {
     "name": "stderr",
     "output_type": "stream",
     "text": [
      "C:\\Users\\Dwarika\\anaconda3\\lib\\site-packages\\sklearn\\model_selection\\_validation.py:531: DataConversionWarning: A column-vector y was passed when a 1d array was expected. Please change the shape of y to (n_samples,), for example using ravel().\n",
      "  estimator.fit(X_train, y_train, **fit_params)\n"
     ]
    },
    {
     "name": "stdout",
     "output_type": "stream",
     "text": [
      "[CV]  n_estimators=300, min_samples_split=100, min_samples_leaf=5, max_features=auto, max_depth=15, total=   4.3s\n",
      "[CV] n_estimators=300, min_samples_split=100, min_samples_leaf=5, max_features=auto, max_depth=15 \n"
     ]
    },
    {
     "name": "stderr",
     "output_type": "stream",
     "text": [
      "C:\\Users\\Dwarika\\anaconda3\\lib\\site-packages\\sklearn\\model_selection\\_validation.py:531: DataConversionWarning: A column-vector y was passed when a 1d array was expected. Please change the shape of y to (n_samples,), for example using ravel().\n",
      "  estimator.fit(X_train, y_train, **fit_params)\n"
     ]
    },
    {
     "name": "stdout",
     "output_type": "stream",
     "text": [
      "[CV]  n_estimators=300, min_samples_split=100, min_samples_leaf=5, max_features=auto, max_depth=15, total=   5.3s\n",
      "[CV] n_estimators=300, min_samples_split=100, min_samples_leaf=5, max_features=auto, max_depth=15 \n"
     ]
    },
    {
     "name": "stderr",
     "output_type": "stream",
     "text": [
      "C:\\Users\\Dwarika\\anaconda3\\lib\\site-packages\\sklearn\\model_selection\\_validation.py:531: DataConversionWarning: A column-vector y was passed when a 1d array was expected. Please change the shape of y to (n_samples,), for example using ravel().\n",
      "  estimator.fit(X_train, y_train, **fit_params)\n"
     ]
    },
    {
     "name": "stdout",
     "output_type": "stream",
     "text": [
      "[CV]  n_estimators=300, min_samples_split=100, min_samples_leaf=5, max_features=auto, max_depth=15, total=   4.8s\n",
      "[CV] n_estimators=400, min_samples_split=5, min_samples_leaf=5, max_features=auto, max_depth=15 \n"
     ]
    },
    {
     "name": "stderr",
     "output_type": "stream",
     "text": [
      "C:\\Users\\Dwarika\\anaconda3\\lib\\site-packages\\sklearn\\model_selection\\_validation.py:531: DataConversionWarning: A column-vector y was passed when a 1d array was expected. Please change the shape of y to (n_samples,), for example using ravel().\n",
      "  estimator.fit(X_train, y_train, **fit_params)\n"
     ]
    },
    {
     "name": "stdout",
     "output_type": "stream",
     "text": [
      "[CV]  n_estimators=400, min_samples_split=5, min_samples_leaf=5, max_features=auto, max_depth=15, total=   8.6s\n",
      "[CV] n_estimators=400, min_samples_split=5, min_samples_leaf=5, max_features=auto, max_depth=15 \n"
     ]
    },
    {
     "name": "stderr",
     "output_type": "stream",
     "text": [
      "C:\\Users\\Dwarika\\anaconda3\\lib\\site-packages\\sklearn\\model_selection\\_validation.py:531: DataConversionWarning: A column-vector y was passed when a 1d array was expected. Please change the shape of y to (n_samples,), for example using ravel().\n",
      "  estimator.fit(X_train, y_train, **fit_params)\n"
     ]
    },
    {
     "name": "stdout",
     "output_type": "stream",
     "text": [
      "[CV]  n_estimators=400, min_samples_split=5, min_samples_leaf=5, max_features=auto, max_depth=15, total=   8.7s\n",
      "[CV] n_estimators=400, min_samples_split=5, min_samples_leaf=5, max_features=auto, max_depth=15 \n"
     ]
    },
    {
     "name": "stderr",
     "output_type": "stream",
     "text": [
      "C:\\Users\\Dwarika\\anaconda3\\lib\\site-packages\\sklearn\\model_selection\\_validation.py:531: DataConversionWarning: A column-vector y was passed when a 1d array was expected. Please change the shape of y to (n_samples,), for example using ravel().\n",
      "  estimator.fit(X_train, y_train, **fit_params)\n"
     ]
    },
    {
     "name": "stdout",
     "output_type": "stream",
     "text": [
      "[CV]  n_estimators=400, min_samples_split=5, min_samples_leaf=5, max_features=auto, max_depth=15, total=   7.9s\n",
      "[CV] n_estimators=400, min_samples_split=5, min_samples_leaf=5, max_features=auto, max_depth=15 \n"
     ]
    },
    {
     "name": "stderr",
     "output_type": "stream",
     "text": [
      "C:\\Users\\Dwarika\\anaconda3\\lib\\site-packages\\sklearn\\model_selection\\_validation.py:531: DataConversionWarning: A column-vector y was passed when a 1d array was expected. Please change the shape of y to (n_samples,), for example using ravel().\n",
      "  estimator.fit(X_train, y_train, **fit_params)\n"
     ]
    },
    {
     "name": "stdout",
     "output_type": "stream",
     "text": [
      "[CV]  n_estimators=400, min_samples_split=5, min_samples_leaf=5, max_features=auto, max_depth=15, total=   7.5s\n",
      "[CV] n_estimators=400, min_samples_split=5, min_samples_leaf=5, max_features=auto, max_depth=15 \n"
     ]
    },
    {
     "name": "stderr",
     "output_type": "stream",
     "text": [
      "C:\\Users\\Dwarika\\anaconda3\\lib\\site-packages\\sklearn\\model_selection\\_validation.py:531: DataConversionWarning: A column-vector y was passed when a 1d array was expected. Please change the shape of y to (n_samples,), for example using ravel().\n",
      "  estimator.fit(X_train, y_train, **fit_params)\n"
     ]
    },
    {
     "name": "stdout",
     "output_type": "stream",
     "text": [
      "[CV]  n_estimators=400, min_samples_split=5, min_samples_leaf=5, max_features=auto, max_depth=15, total=   7.2s\n",
      "[CV] n_estimators=700, min_samples_split=5, min_samples_leaf=10, max_features=auto, max_depth=20 \n"
     ]
    },
    {
     "name": "stderr",
     "output_type": "stream",
     "text": [
      "C:\\Users\\Dwarika\\anaconda3\\lib\\site-packages\\sklearn\\model_selection\\_validation.py:531: DataConversionWarning: A column-vector y was passed when a 1d array was expected. Please change the shape of y to (n_samples,), for example using ravel().\n",
      "  estimator.fit(X_train, y_train, **fit_params)\n"
     ]
    },
    {
     "name": "stdout",
     "output_type": "stream",
     "text": [
      "[CV]  n_estimators=700, min_samples_split=5, min_samples_leaf=10, max_features=auto, max_depth=20, total=  11.7s\n",
      "[CV] n_estimators=700, min_samples_split=5, min_samples_leaf=10, max_features=auto, max_depth=20 \n"
     ]
    },
    {
     "name": "stderr",
     "output_type": "stream",
     "text": [
      "C:\\Users\\Dwarika\\anaconda3\\lib\\site-packages\\sklearn\\model_selection\\_validation.py:531: DataConversionWarning: A column-vector y was passed when a 1d array was expected. Please change the shape of y to (n_samples,), for example using ravel().\n",
      "  estimator.fit(X_train, y_train, **fit_params)\n"
     ]
    },
    {
     "name": "stdout",
     "output_type": "stream",
     "text": [
      "[CV]  n_estimators=700, min_samples_split=5, min_samples_leaf=10, max_features=auto, max_depth=20, total=  12.0s\n",
      "[CV] n_estimators=700, min_samples_split=5, min_samples_leaf=10, max_features=auto, max_depth=20 \n"
     ]
    },
    {
     "name": "stderr",
     "output_type": "stream",
     "text": [
      "C:\\Users\\Dwarika\\anaconda3\\lib\\site-packages\\sklearn\\model_selection\\_validation.py:531: DataConversionWarning: A column-vector y was passed when a 1d array was expected. Please change the shape of y to (n_samples,), for example using ravel().\n",
      "  estimator.fit(X_train, y_train, **fit_params)\n"
     ]
    },
    {
     "name": "stdout",
     "output_type": "stream",
     "text": [
      "[CV]  n_estimators=700, min_samples_split=5, min_samples_leaf=10, max_features=auto, max_depth=20, total=  11.6s\n",
      "[CV] n_estimators=700, min_samples_split=5, min_samples_leaf=10, max_features=auto, max_depth=20 \n"
     ]
    },
    {
     "name": "stderr",
     "output_type": "stream",
     "text": [
      "C:\\Users\\Dwarika\\anaconda3\\lib\\site-packages\\sklearn\\model_selection\\_validation.py:531: DataConversionWarning: A column-vector y was passed when a 1d array was expected. Please change the shape of y to (n_samples,), for example using ravel().\n",
      "  estimator.fit(X_train, y_train, **fit_params)\n"
     ]
    },
    {
     "name": "stdout",
     "output_type": "stream",
     "text": [
      "[CV]  n_estimators=700, min_samples_split=5, min_samples_leaf=10, max_features=auto, max_depth=20, total=  11.9s\n",
      "[CV] n_estimators=700, min_samples_split=5, min_samples_leaf=10, max_features=auto, max_depth=20 \n"
     ]
    },
    {
     "name": "stderr",
     "output_type": "stream",
     "text": [
      "C:\\Users\\Dwarika\\anaconda3\\lib\\site-packages\\sklearn\\model_selection\\_validation.py:531: DataConversionWarning: A column-vector y was passed when a 1d array was expected. Please change the shape of y to (n_samples,), for example using ravel().\n",
      "  estimator.fit(X_train, y_train, **fit_params)\n"
     ]
    },
    {
     "name": "stdout",
     "output_type": "stream",
     "text": [
      "[CV]  n_estimators=700, min_samples_split=5, min_samples_leaf=10, max_features=auto, max_depth=20, total=  11.8s\n",
      "[CV] n_estimators=1000, min_samples_split=2, min_samples_leaf=1, max_features=sqrt, max_depth=25 \n"
     ]
    },
    {
     "name": "stderr",
     "output_type": "stream",
     "text": [
      "C:\\Users\\Dwarika\\anaconda3\\lib\\site-packages\\sklearn\\model_selection\\_validation.py:531: DataConversionWarning: A column-vector y was passed when a 1d array was expected. Please change the shape of y to (n_samples,), for example using ravel().\n",
      "  estimator.fit(X_train, y_train, **fit_params)\n"
     ]
    },
    {
     "name": "stdout",
     "output_type": "stream",
     "text": [
      "[CV]  n_estimators=1000, min_samples_split=2, min_samples_leaf=1, max_features=sqrt, max_depth=25, total=  12.4s\n",
      "[CV] n_estimators=1000, min_samples_split=2, min_samples_leaf=1, max_features=sqrt, max_depth=25 \n"
     ]
    },
    {
     "name": "stderr",
     "output_type": "stream",
     "text": [
      "C:\\Users\\Dwarika\\anaconda3\\lib\\site-packages\\sklearn\\model_selection\\_validation.py:531: DataConversionWarning: A column-vector y was passed when a 1d array was expected. Please change the shape of y to (n_samples,), for example using ravel().\n",
      "  estimator.fit(X_train, y_train, **fit_params)\n"
     ]
    },
    {
     "name": "stdout",
     "output_type": "stream",
     "text": [
      "[CV]  n_estimators=1000, min_samples_split=2, min_samples_leaf=1, max_features=sqrt, max_depth=25, total=  11.8s\n",
      "[CV] n_estimators=1000, min_samples_split=2, min_samples_leaf=1, max_features=sqrt, max_depth=25 \n"
     ]
    },
    {
     "name": "stderr",
     "output_type": "stream",
     "text": [
      "C:\\Users\\Dwarika\\anaconda3\\lib\\site-packages\\sklearn\\model_selection\\_validation.py:531: DataConversionWarning: A column-vector y was passed when a 1d array was expected. Please change the shape of y to (n_samples,), for example using ravel().\n",
      "  estimator.fit(X_train, y_train, **fit_params)\n"
     ]
    },
    {
     "name": "stdout",
     "output_type": "stream",
     "text": [
      "[CV]  n_estimators=1000, min_samples_split=2, min_samples_leaf=1, max_features=sqrt, max_depth=25, total=  12.0s\n",
      "[CV] n_estimators=1000, min_samples_split=2, min_samples_leaf=1, max_features=sqrt, max_depth=25 \n"
     ]
    },
    {
     "name": "stderr",
     "output_type": "stream",
     "text": [
      "C:\\Users\\Dwarika\\anaconda3\\lib\\site-packages\\sklearn\\model_selection\\_validation.py:531: DataConversionWarning: A column-vector y was passed when a 1d array was expected. Please change the shape of y to (n_samples,), for example using ravel().\n",
      "  estimator.fit(X_train, y_train, **fit_params)\n"
     ]
    },
    {
     "name": "stdout",
     "output_type": "stream",
     "text": [
      "[CV]  n_estimators=1000, min_samples_split=2, min_samples_leaf=1, max_features=sqrt, max_depth=25, total=  12.1s\n",
      "[CV] n_estimators=1000, min_samples_split=2, min_samples_leaf=1, max_features=sqrt, max_depth=25 \n"
     ]
    },
    {
     "name": "stderr",
     "output_type": "stream",
     "text": [
      "C:\\Users\\Dwarika\\anaconda3\\lib\\site-packages\\sklearn\\model_selection\\_validation.py:531: DataConversionWarning: A column-vector y was passed when a 1d array was expected. Please change the shape of y to (n_samples,), for example using ravel().\n",
      "  estimator.fit(X_train, y_train, **fit_params)\n"
     ]
    },
    {
     "name": "stdout",
     "output_type": "stream",
     "text": [
      "[CV]  n_estimators=1000, min_samples_split=2, min_samples_leaf=1, max_features=sqrt, max_depth=25, total=  12.2s\n",
      "[CV] n_estimators=1100, min_samples_split=15, min_samples_leaf=10, max_features=sqrt, max_depth=5 \n"
     ]
    },
    {
     "name": "stderr",
     "output_type": "stream",
     "text": [
      "C:\\Users\\Dwarika\\anaconda3\\lib\\site-packages\\sklearn\\model_selection\\_validation.py:531: DataConversionWarning: A column-vector y was passed when a 1d array was expected. Please change the shape of y to (n_samples,), for example using ravel().\n",
      "  estimator.fit(X_train, y_train, **fit_params)\n"
     ]
    },
    {
     "name": "stdout",
     "output_type": "stream",
     "text": [
      "[CV]  n_estimators=1100, min_samples_split=15, min_samples_leaf=10, max_features=sqrt, max_depth=5, total=   4.2s\n",
      "[CV] n_estimators=1100, min_samples_split=15, min_samples_leaf=10, max_features=sqrt, max_depth=5 \n"
     ]
    },
    {
     "name": "stderr",
     "output_type": "stream",
     "text": [
      "C:\\Users\\Dwarika\\anaconda3\\lib\\site-packages\\sklearn\\model_selection\\_validation.py:531: DataConversionWarning: A column-vector y was passed when a 1d array was expected. Please change the shape of y to (n_samples,), for example using ravel().\n",
      "  estimator.fit(X_train, y_train, **fit_params)\n"
     ]
    },
    {
     "name": "stdout",
     "output_type": "stream",
     "text": [
      "[CV]  n_estimators=1100, min_samples_split=15, min_samples_leaf=10, max_features=sqrt, max_depth=5, total=   4.1s\n",
      "[CV] n_estimators=1100, min_samples_split=15, min_samples_leaf=10, max_features=sqrt, max_depth=5 \n"
     ]
    },
    {
     "name": "stderr",
     "output_type": "stream",
     "text": [
      "C:\\Users\\Dwarika\\anaconda3\\lib\\site-packages\\sklearn\\model_selection\\_validation.py:531: DataConversionWarning: A column-vector y was passed when a 1d array was expected. Please change the shape of y to (n_samples,), for example using ravel().\n",
      "  estimator.fit(X_train, y_train, **fit_params)\n"
     ]
    },
    {
     "name": "stdout",
     "output_type": "stream",
     "text": [
      "[CV]  n_estimators=1100, min_samples_split=15, min_samples_leaf=10, max_features=sqrt, max_depth=5, total=   4.2s\n",
      "[CV] n_estimators=1100, min_samples_split=15, min_samples_leaf=10, max_features=sqrt, max_depth=5 \n"
     ]
    },
    {
     "name": "stderr",
     "output_type": "stream",
     "text": [
      "C:\\Users\\Dwarika\\anaconda3\\lib\\site-packages\\sklearn\\model_selection\\_validation.py:531: DataConversionWarning: A column-vector y was passed when a 1d array was expected. Please change the shape of y to (n_samples,), for example using ravel().\n",
      "  estimator.fit(X_train, y_train, **fit_params)\n"
     ]
    },
    {
     "name": "stdout",
     "output_type": "stream",
     "text": [
      "[CV]  n_estimators=1100, min_samples_split=15, min_samples_leaf=10, max_features=sqrt, max_depth=5, total=   4.2s\n",
      "[CV] n_estimators=1100, min_samples_split=15, min_samples_leaf=10, max_features=sqrt, max_depth=5 \n"
     ]
    },
    {
     "name": "stderr",
     "output_type": "stream",
     "text": [
      "C:\\Users\\Dwarika\\anaconda3\\lib\\site-packages\\sklearn\\model_selection\\_validation.py:531: DataConversionWarning: A column-vector y was passed when a 1d array was expected. Please change the shape of y to (n_samples,), for example using ravel().\n",
      "  estimator.fit(X_train, y_train, **fit_params)\n"
     ]
    },
    {
     "name": "stdout",
     "output_type": "stream",
     "text": [
      "[CV]  n_estimators=1100, min_samples_split=15, min_samples_leaf=10, max_features=sqrt, max_depth=5, total=   4.3s\n",
      "[CV] n_estimators=300, min_samples_split=15, min_samples_leaf=1, max_features=sqrt, max_depth=15 \n"
     ]
    },
    {
     "name": "stderr",
     "output_type": "stream",
     "text": [
      "C:\\Users\\Dwarika\\anaconda3\\lib\\site-packages\\sklearn\\model_selection\\_validation.py:531: DataConversionWarning: A column-vector y was passed when a 1d array was expected. Please change the shape of y to (n_samples,), for example using ravel().\n",
      "  estimator.fit(X_train, y_train, **fit_params)\n"
     ]
    },
    {
     "name": "stdout",
     "output_type": "stream",
     "text": [
      "[CV]  n_estimators=300, min_samples_split=15, min_samples_leaf=1, max_features=sqrt, max_depth=15, total=   2.0s\n",
      "[CV] n_estimators=300, min_samples_split=15, min_samples_leaf=1, max_features=sqrt, max_depth=15 \n"
     ]
    },
    {
     "name": "stderr",
     "output_type": "stream",
     "text": [
      "C:\\Users\\Dwarika\\anaconda3\\lib\\site-packages\\sklearn\\model_selection\\_validation.py:531: DataConversionWarning: A column-vector y was passed when a 1d array was expected. Please change the shape of y to (n_samples,), for example using ravel().\n",
      "  estimator.fit(X_train, y_train, **fit_params)\n"
     ]
    },
    {
     "name": "stdout",
     "output_type": "stream",
     "text": [
      "[CV]  n_estimators=300, min_samples_split=15, min_samples_leaf=1, max_features=sqrt, max_depth=15, total=   2.0s\n",
      "[CV] n_estimators=300, min_samples_split=15, min_samples_leaf=1, max_features=sqrt, max_depth=15 \n"
     ]
    },
    {
     "name": "stderr",
     "output_type": "stream",
     "text": [
      "C:\\Users\\Dwarika\\anaconda3\\lib\\site-packages\\sklearn\\model_selection\\_validation.py:531: DataConversionWarning: A column-vector y was passed when a 1d array was expected. Please change the shape of y to (n_samples,), for example using ravel().\n",
      "  estimator.fit(X_train, y_train, **fit_params)\n"
     ]
    },
    {
     "name": "stdout",
     "output_type": "stream",
     "text": [
      "[CV]  n_estimators=300, min_samples_split=15, min_samples_leaf=1, max_features=sqrt, max_depth=15, total=   2.0s\n",
      "[CV] n_estimators=300, min_samples_split=15, min_samples_leaf=1, max_features=sqrt, max_depth=15 \n"
     ]
    },
    {
     "name": "stderr",
     "output_type": "stream",
     "text": [
      "C:\\Users\\Dwarika\\anaconda3\\lib\\site-packages\\sklearn\\model_selection\\_validation.py:531: DataConversionWarning: A column-vector y was passed when a 1d array was expected. Please change the shape of y to (n_samples,), for example using ravel().\n",
      "  estimator.fit(X_train, y_train, **fit_params)\n"
     ]
    },
    {
     "name": "stdout",
     "output_type": "stream",
     "text": [
      "[CV]  n_estimators=300, min_samples_split=15, min_samples_leaf=1, max_features=sqrt, max_depth=15, total=   2.0s\n",
      "[CV] n_estimators=300, min_samples_split=15, min_samples_leaf=1, max_features=sqrt, max_depth=15 \n"
     ]
    },
    {
     "name": "stderr",
     "output_type": "stream",
     "text": [
      "C:\\Users\\Dwarika\\anaconda3\\lib\\site-packages\\sklearn\\model_selection\\_validation.py:531: DataConversionWarning: A column-vector y was passed when a 1d array was expected. Please change the shape of y to (n_samples,), for example using ravel().\n",
      "  estimator.fit(X_train, y_train, **fit_params)\n"
     ]
    },
    {
     "name": "stdout",
     "output_type": "stream",
     "text": [
      "[CV]  n_estimators=300, min_samples_split=15, min_samples_leaf=1, max_features=sqrt, max_depth=15, total=   2.0s\n",
      "[CV] n_estimators=700, min_samples_split=10, min_samples_leaf=2, max_features=sqrt, max_depth=5 \n"
     ]
    },
    {
     "name": "stderr",
     "output_type": "stream",
     "text": [
      "C:\\Users\\Dwarika\\anaconda3\\lib\\site-packages\\sklearn\\model_selection\\_validation.py:531: DataConversionWarning: A column-vector y was passed when a 1d array was expected. Please change the shape of y to (n_samples,), for example using ravel().\n",
      "  estimator.fit(X_train, y_train, **fit_params)\n"
     ]
    },
    {
     "name": "stdout",
     "output_type": "stream",
     "text": [
      "[CV]  n_estimators=700, min_samples_split=10, min_samples_leaf=2, max_features=sqrt, max_depth=5, total=   2.7s\n",
      "[CV] n_estimators=700, min_samples_split=10, min_samples_leaf=2, max_features=sqrt, max_depth=5 \n"
     ]
    },
    {
     "name": "stderr",
     "output_type": "stream",
     "text": [
      "C:\\Users\\Dwarika\\anaconda3\\lib\\site-packages\\sklearn\\model_selection\\_validation.py:531: DataConversionWarning: A column-vector y was passed when a 1d array was expected. Please change the shape of y to (n_samples,), for example using ravel().\n",
      "  estimator.fit(X_train, y_train, **fit_params)\n"
     ]
    },
    {
     "name": "stdout",
     "output_type": "stream",
     "text": [
      "[CV]  n_estimators=700, min_samples_split=10, min_samples_leaf=2, max_features=sqrt, max_depth=5, total=   2.9s\n",
      "[CV] n_estimators=700, min_samples_split=10, min_samples_leaf=2, max_features=sqrt, max_depth=5 \n"
     ]
    },
    {
     "name": "stderr",
     "output_type": "stream",
     "text": [
      "C:\\Users\\Dwarika\\anaconda3\\lib\\site-packages\\sklearn\\model_selection\\_validation.py:531: DataConversionWarning: A column-vector y was passed when a 1d array was expected. Please change the shape of y to (n_samples,), for example using ravel().\n",
      "  estimator.fit(X_train, y_train, **fit_params)\n"
     ]
    },
    {
     "name": "stdout",
     "output_type": "stream",
     "text": [
      "[CV]  n_estimators=700, min_samples_split=10, min_samples_leaf=2, max_features=sqrt, max_depth=5, total=   2.8s\n",
      "[CV] n_estimators=700, min_samples_split=10, min_samples_leaf=2, max_features=sqrt, max_depth=5 \n"
     ]
    },
    {
     "name": "stderr",
     "output_type": "stream",
     "text": [
      "C:\\Users\\Dwarika\\anaconda3\\lib\\site-packages\\sklearn\\model_selection\\_validation.py:531: DataConversionWarning: A column-vector y was passed when a 1d array was expected. Please change the shape of y to (n_samples,), for example using ravel().\n",
      "  estimator.fit(X_train, y_train, **fit_params)\n"
     ]
    },
    {
     "name": "stdout",
     "output_type": "stream",
     "text": [
      "[CV]  n_estimators=700, min_samples_split=10, min_samples_leaf=2, max_features=sqrt, max_depth=5, total=   2.9s\n",
      "[CV] n_estimators=700, min_samples_split=10, min_samples_leaf=2, max_features=sqrt, max_depth=5 \n"
     ]
    },
    {
     "name": "stderr",
     "output_type": "stream",
     "text": [
      "C:\\Users\\Dwarika\\anaconda3\\lib\\site-packages\\sklearn\\model_selection\\_validation.py:531: DataConversionWarning: A column-vector y was passed when a 1d array was expected. Please change the shape of y to (n_samples,), for example using ravel().\n",
      "  estimator.fit(X_train, y_train, **fit_params)\n"
     ]
    },
    {
     "name": "stdout",
     "output_type": "stream",
     "text": [
      "[CV]  n_estimators=700, min_samples_split=10, min_samples_leaf=2, max_features=sqrt, max_depth=5, total=   2.9s\n",
      "[CV] n_estimators=700, min_samples_split=15, min_samples_leaf=1, max_features=auto, max_depth=20 \n"
     ]
    },
    {
     "name": "stderr",
     "output_type": "stream",
     "text": [
      "C:\\Users\\Dwarika\\anaconda3\\lib\\site-packages\\sklearn\\model_selection\\_validation.py:531: DataConversionWarning: A column-vector y was passed when a 1d array was expected. Please change the shape of y to (n_samples,), for example using ravel().\n",
      "  estimator.fit(X_train, y_train, **fit_params)\n"
     ]
    },
    {
     "name": "stdout",
     "output_type": "stream",
     "text": [
      "[CV]  n_estimators=700, min_samples_split=15, min_samples_leaf=1, max_features=auto, max_depth=20, total=  14.4s\n",
      "[CV] n_estimators=700, min_samples_split=15, min_samples_leaf=1, max_features=auto, max_depth=20 \n"
     ]
    },
    {
     "name": "stderr",
     "output_type": "stream",
     "text": [
      "C:\\Users\\Dwarika\\anaconda3\\lib\\site-packages\\sklearn\\model_selection\\_validation.py:531: DataConversionWarning: A column-vector y was passed when a 1d array was expected. Please change the shape of y to (n_samples,), for example using ravel().\n",
      "  estimator.fit(X_train, y_train, **fit_params)\n"
     ]
    },
    {
     "name": "stdout",
     "output_type": "stream",
     "text": [
      "[CV]  n_estimators=700, min_samples_split=15, min_samples_leaf=1, max_features=auto, max_depth=20, total=  13.6s\n",
      "[CV] n_estimators=700, min_samples_split=15, min_samples_leaf=1, max_features=auto, max_depth=20 \n"
     ]
    },
    {
     "name": "stderr",
     "output_type": "stream",
     "text": [
      "C:\\Users\\Dwarika\\anaconda3\\lib\\site-packages\\sklearn\\model_selection\\_validation.py:531: DataConversionWarning: A column-vector y was passed when a 1d array was expected. Please change the shape of y to (n_samples,), for example using ravel().\n",
      "  estimator.fit(X_train, y_train, **fit_params)\n"
     ]
    },
    {
     "name": "stdout",
     "output_type": "stream",
     "text": [
      "[CV]  n_estimators=700, min_samples_split=15, min_samples_leaf=1, max_features=auto, max_depth=20, total=  14.1s\n",
      "[CV] n_estimators=700, min_samples_split=15, min_samples_leaf=1, max_features=auto, max_depth=20 \n"
     ]
    },
    {
     "name": "stderr",
     "output_type": "stream",
     "text": [
      "C:\\Users\\Dwarika\\anaconda3\\lib\\site-packages\\sklearn\\model_selection\\_validation.py:531: DataConversionWarning: A column-vector y was passed when a 1d array was expected. Please change the shape of y to (n_samples,), for example using ravel().\n",
      "  estimator.fit(X_train, y_train, **fit_params)\n"
     ]
    },
    {
     "name": "stdout",
     "output_type": "stream",
     "text": [
      "[CV]  n_estimators=700, min_samples_split=15, min_samples_leaf=1, max_features=auto, max_depth=20, total=  14.2s\n",
      "[CV] n_estimators=700, min_samples_split=15, min_samples_leaf=1, max_features=auto, max_depth=20 \n"
     ]
    },
    {
     "name": "stderr",
     "output_type": "stream",
     "text": [
      "C:\\Users\\Dwarika\\anaconda3\\lib\\site-packages\\sklearn\\model_selection\\_validation.py:531: DataConversionWarning: A column-vector y was passed when a 1d array was expected. Please change the shape of y to (n_samples,), for example using ravel().\n",
      "  estimator.fit(X_train, y_train, **fit_params)\n"
     ]
    },
    {
     "name": "stdout",
     "output_type": "stream",
     "text": [
      "[CV]  n_estimators=700, min_samples_split=15, min_samples_leaf=1, max_features=auto, max_depth=20, total=  13.8s\n"
     ]
    },
    {
     "name": "stderr",
     "output_type": "stream",
     "text": [
      "[Parallel(n_jobs=1)]: Done  50 out of  50 | elapsed:  6.1min finished\n",
      "C:\\Users\\Dwarika\\anaconda3\\lib\\site-packages\\sklearn\\model_selection\\_search.py:765: DataConversionWarning: A column-vector y was passed when a 1d array was expected. Please change the shape of y to (n_samples,), for example using ravel().\n",
      "  self.best_estimator_.fit(X, y, **fit_params)\n"
     ]
    },
    {
     "data": {
      "text/plain": [
       "RandomizedSearchCV(cv=5,\n",
       "                   estimator=RandomForestRegressor(max_depth=15,\n",
       "                                                   n_estimators=1000),\n",
       "                   n_jobs=1,\n",
       "                   param_distributions={'max_depth': [5, 10, 15, 20, 25, 30],\n",
       "                                        'max_features': ['auto', 'sqrt'],\n",
       "                                        'min_samples_leaf': [1, 2, 5, 10],\n",
       "                                        'min_samples_split': [2, 5, 10, 15,\n",
       "                                                              100],\n",
       "                                        'n_estimators': [100, 200, 300, 400,\n",
       "                                                         500, 600, 700, 800,\n",
       "                                                         900, 1000, 1100,\n",
       "                                                         1200]},\n",
       "                   random_state=42, scoring='neg_mean_squared_error',\n",
       "                   verbose=2)"
      ]
     },
     "execution_count": 293,
     "metadata": {},
     "output_type": "execute_result"
    }
   ],
   "source": [
    "rf_random.fit(X_train,y_train)"
   ]
  },
  {
   "cell_type": "code",
   "execution_count": 294,
   "id": "42b2dc12",
   "metadata": {},
   "outputs": [
    {
     "data": {
      "text/plain": [
       "{'n_estimators': 700,\n",
       " 'min_samples_split': 15,\n",
       " 'min_samples_leaf': 1,\n",
       " 'max_features': 'auto',\n",
       " 'max_depth': 20}"
      ]
     },
     "execution_count": 294,
     "metadata": {},
     "output_type": "execute_result"
    }
   ],
   "source": [
    "rf_random.best_params_"
   ]
  },
  {
   "cell_type": "code",
   "execution_count": 296,
   "id": "c06ffae0",
   "metadata": {},
   "outputs": [],
   "source": [
    "pred= rf_random.predict(X_test)"
   ]
  },
  {
   "cell_type": "code",
   "execution_count": 300,
   "id": "075bc187",
   "metadata": {},
   "outputs": [
    {
     "name": "stdout",
     "output_type": "stream",
     "text": [
      "MAE 1285.904624462968\n",
      "MSE 4807937.511367333\n",
      "RMSE 2192.700962595523\n"
     ]
    }
   ],
   "source": [
    "print('MAE',metrics.mean_absolute_error(y_test,pred))\n",
    "print('MSE',metrics.mean_squared_error(y_test,pred))\n",
    "print('RMSE',np.sqrt(metrics.mean_squared_error(y_test,pred)))"
   ]
  },
  {
   "cell_type": "code",
   "execution_count": 303,
   "id": "1c26bc98",
   "metadata": {},
   "outputs": [],
   "source": [
    "import pickle"
   ]
  },
  {
   "cell_type": "code",
   "execution_count": 304,
   "id": "2de15fd2",
   "metadata": {},
   "outputs": [],
   "source": [
    "file = open('flight.pkl','wb')\n",
    "pickle.dump(rnd,file)"
   ]
  },
  {
   "cell_type": "code",
   "execution_count": 305,
   "id": "9d3e56fa",
   "metadata": {},
   "outputs": [],
   "source": [
    "model = open('flight.pkl','rb')\n",
    "forest = pickle.load(model)"
   ]
  },
  {
   "cell_type": "code",
   "execution_count": 306,
   "id": "32fbf470",
   "metadata": {},
   "outputs": [],
   "source": [
    "y_predict = forest.predict(X_test)"
   ]
  },
  {
   "cell_type": "code",
   "execution_count": 307,
   "id": "fd08927c",
   "metadata": {},
   "outputs": [
    {
     "data": {
      "text/plain": [
       "0.7835872018592462"
      ]
     },
     "execution_count": 307,
     "metadata": {},
     "output_type": "execute_result"
    }
   ],
   "source": [
    "r2_score(y_test,y_predict)"
   ]
  },
  {
   "cell_type": "code",
   "execution_count": null,
   "id": "531e04e3",
   "metadata": {},
   "outputs": [],
   "source": []
  }
 ],
 "metadata": {
  "kernelspec": {
   "display_name": "Python 3",
   "language": "python",
   "name": "python3"
  },
  "language_info": {
   "codemirror_mode": {
    "name": "ipython",
    "version": 3
   },
   "file_extension": ".py",
   "mimetype": "text/x-python",
   "name": "python",
   "nbconvert_exporter": "python",
   "pygments_lexer": "ipython3",
   "version": "3.8.3"
  }
 },
 "nbformat": 4,
 "nbformat_minor": 5
}
